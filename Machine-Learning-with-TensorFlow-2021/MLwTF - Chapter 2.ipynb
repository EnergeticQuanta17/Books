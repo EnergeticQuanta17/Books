{
 "cells": [
  {
   "cell_type": "code",
   "execution_count": 1,
   "id": "6a9f2cb1",
   "metadata": {},
   "outputs": [],
   "source": [
    "import numpy as np\n",
    "import tensorflow as tf"
   ]
  },
  {
   "cell_type": "code",
   "execution_count": 4,
   "id": "cfd6922e",
   "metadata": {},
   "outputs": [
    {
     "name": "stdout",
     "output_type": "stream",
     "text": [
      "[[1.0, 2.0], [3.0, 4.0]]\n",
      "<class 'list'>\n",
      "\n",
      "[[1. 2.]\n",
      " [3. 4.]]\n",
      "<class 'numpy.ndarray'>\n",
      "\n",
      "tf.Tensor(\n",
      "[[1. 2.]\n",
      " [3. 4.]], shape=(2, 2), dtype=float32)\n",
      "<class 'tensorflow.python.framework.ops.EagerTensor'>\n"
     ]
    }
   ],
   "source": [
    "m1 = [[1.0,2.0],\n",
    "      [3.0,4.0]]\n",
    "\n",
    "m2 = np.array([[1.0,2.0],\n",
    "               [3.0,4.0]], dtype=np.float32)\n",
    "\n",
    "m3 = tf.constant([[1.0,2.0],\n",
    "                  [3.0,4.0]])\n",
    "\n",
    "print(m1)\n",
    "print(type(m1),end='\\n\\n')\n",
    "\n",
    "print(m2)\n",
    "print(type(m2),end='\\n\\n')\n",
    "\n",
    "print(m3)\n",
    "print(type(m3))"
   ]
  },
  {
   "cell_type": "code",
   "execution_count": 5,
   "id": "1df323ef",
   "metadata": {},
   "outputs": [
    {
     "name": "stdout",
     "output_type": "stream",
     "text": [
      "tf.Tensor(\n",
      "[[1. 2.]\n",
      " [3. 4.]], shape=(2, 2), dtype=float32)\n",
      "\n",
      "<class 'tensorflow.python.framework.ops.EagerTensor'>\n",
      "<class 'tensorflow.python.framework.ops.EagerTensor'>\n",
      "<class 'tensorflow.python.framework.ops.EagerTensor'>\n"
     ]
    }
   ],
   "source": [
    "t1 = tf.convert_to_tensor(m1, dtype=tf.float32)\n",
    "t2 = tf.convert_to_tensor(m2, dtype=tf.float32)\n",
    "t3 = tf.convert_to_tensor(m3, dtype=tf.float32)\n",
    "\n",
    "print(t1,end='\\n\\n')\n",
    "\n",
    "print(type(t1))\n",
    "print(type(t2))\n",
    "print(type(t3))"
   ]
  },
  {
   "cell_type": "code",
   "execution_count": null,
   "id": "bb9ff7d2",
   "metadata": {},
   "outputs": [],
   "source": []
  }
 ],
 "metadata": {
  "kernelspec": {
   "display_name": "Python 3 (ipykernel)",
   "language": "python",
   "name": "python3"
  },
  "language_info": {
   "codemirror_mode": {
    "name": "ipython",
    "version": 3
   },
   "file_extension": ".py",
   "mimetype": "text/x-python",
   "name": "python",
   "nbconvert_exporter": "python",
   "pygments_lexer": "ipython3",
   "version": "3.10.6"
  }
 },
 "nbformat": 4,
 "nbformat_minor": 5
}
