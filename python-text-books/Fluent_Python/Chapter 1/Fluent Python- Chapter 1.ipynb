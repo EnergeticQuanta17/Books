{
 "cells": [
  {
   "cell_type": "code",
   "execution_count": 1,
   "id": "d33d4b22",
   "metadata": {},
   "outputs": [
    {
     "name": "stdout",
     "output_type": "stream",
     "text": [
      "3\n"
     ]
    }
   ],
   "source": [
    "a=[1,2,3]\n",
    "print(a.__getitem__(2))"
   ]
  },
  {
   "cell_type": "code",
   "execution_count": 55,
   "id": "a023ce33",
   "metadata": {},
   "outputs": [],
   "source": [
    "#Pythonic Card Deck\n",
    "\n",
    "import collections\n",
    "\n",
    "Card=collections.namedtuple('Cardi',['rank','suit'])\n",
    "\n",
    "class FrenchDeck:\n",
    "    ranks=[str(n) for n in range(2,11)]+list('JQKA')\n",
    "    suits='spades diamonds clubs hearts'.split()\n",
    "    \n",
    "    def __init__(self):\n",
    "        self._cards=[Card(rank,suit) for suit in self.suits for rank in self.ranks]\n",
    "        \n",
    "    \n",
    "    def __len__(self):\n",
    "        return len(self._cards)\n",
    "    \n",
    "    def __getitem__(self,position):\n",
    "        return self._cards[position]"
   ]
  },
  {
   "cell_type": "code",
   "execution_count": 56,
   "id": "2e026b7e",
   "metadata": {},
   "outputs": [
    {
     "data": {
      "text/plain": [
       "Cardi(rank='10', suit='hearts')"
      ]
     },
     "execution_count": 56,
     "metadata": {},
     "output_type": "execute_result"
    }
   ],
   "source": [
    "beer_card=Card('10','hearts')\n",
    "beer_card"
   ]
  },
  {
   "cell_type": "code",
   "execution_count": 57,
   "id": "57b9367e",
   "metadata": {},
   "outputs": [
    {
     "name": "stdout",
     "output_type": "stream",
     "text": [
      "Cardi(rank='2', suit='clubs')\n",
      "Cardi(rank='A', suit='hearts')\n",
      "Cardi(rank='A', suit='hearts')\n"
     ]
    }
   ],
   "source": [
    "deck=FrenchDeck()\n",
    "print(deck[26])\n",
    "print(deck[-1])\n",
    "print(deck[51])"
   ]
  },
  {
   "cell_type": "code",
   "execution_count": 58,
   "id": "a51b6b48",
   "metadata": {},
   "outputs": [
    {
     "name": "stdout",
     "output_type": "stream",
     "text": [
      "Cardi(rank='9', suit='spades')\n",
      "Cardi(rank='K', suit='diamonds')\n"
     ]
    }
   ],
   "source": [
    "from random import choice   # to get a random item from a sequence\n",
    "\n",
    "print(choice(deck))\n",
    "print(choice(deck))"
   ]
  },
  {
   "cell_type": "code",
   "execution_count": 59,
   "id": "b3c833f1",
   "metadata": {},
   "outputs": [
    {
     "data": {
      "text/plain": [
       "[Cardi(rank='2', suit='spades'),\n",
       " Cardi(rank='3', suit='spades'),\n",
       " Cardi(rank='4', suit='spades')]"
      ]
     },
     "execution_count": 59,
     "metadata": {},
     "output_type": "execute_result"
    }
   ],
   "source": [
    "deck[:3]"
   ]
  },
  {
   "cell_type": "code",
   "execution_count": 60,
   "id": "d2b166b0",
   "metadata": {},
   "outputs": [
    {
     "data": {
      "text/plain": [
       "[Cardi(rank='A', suit='spades'),\n",
       " Cardi(rank='A', suit='diamonds'),\n",
       " Cardi(rank='A', suit='clubs'),\n",
       " Cardi(rank='A', suit='hearts')]"
      ]
     },
     "execution_count": 60,
     "metadata": {},
     "output_type": "execute_result"
    }
   ],
   "source": [
    "deck[12::13]"
   ]
  },
  {
   "cell_type": "code",
   "execution_count": 63,
   "id": "a934387f",
   "metadata": {},
   "outputs": [
    {
     "name": "stdout",
     "output_type": "stream",
     "text": [
      "Cardi(rank='A', suit='hearts')\n",
      "Cardi(rank='K', suit='hearts')\n",
      "Cardi(rank='Q', suit='hearts')\n",
      "Cardi(rank='J', suit='hearts')\n",
      "Cardi(rank='10', suit='hearts')\n",
      "Cardi(rank='9', suit='hearts')\n",
      "Cardi(rank='8', suit='hearts')\n",
      "Cardi(rank='7', suit='hearts')\n",
      "Cardi(rank='6', suit='hearts')\n",
      "Cardi(rank='5', suit='hearts')\n",
      "Cardi(rank='4', suit='hearts')\n",
      "Cardi(rank='3', suit='hearts')\n",
      "Cardi(rank='2', suit='hearts')\n",
      "Cardi(rank='A', suit='clubs')\n",
      "Cardi(rank='K', suit='clubs')\n",
      "Cardi(rank='Q', suit='clubs')\n",
      "Cardi(rank='J', suit='clubs')\n",
      "Cardi(rank='10', suit='clubs')\n",
      "Cardi(rank='9', suit='clubs')\n",
      "Cardi(rank='8', suit='clubs')\n",
      "Cardi(rank='7', suit='clubs')\n",
      "Cardi(rank='6', suit='clubs')\n",
      "Cardi(rank='5', suit='clubs')\n",
      "Cardi(rank='4', suit='clubs')\n",
      "Cardi(rank='3', suit='clubs')\n",
      "Cardi(rank='2', suit='clubs')\n",
      "Cardi(rank='A', suit='diamonds')\n",
      "Cardi(rank='K', suit='diamonds')\n",
      "Cardi(rank='Q', suit='diamonds')\n",
      "Cardi(rank='J', suit='diamonds')\n",
      "Cardi(rank='10', suit='diamonds')\n",
      "Cardi(rank='9', suit='diamonds')\n",
      "Cardi(rank='8', suit='diamonds')\n",
      "Cardi(rank='7', suit='diamonds')\n",
      "Cardi(rank='6', suit='diamonds')\n",
      "Cardi(rank='5', suit='diamonds')\n",
      "Cardi(rank='4', suit='diamonds')\n",
      "Cardi(rank='3', suit='diamonds')\n",
      "Cardi(rank='2', suit='diamonds')\n",
      "Cardi(rank='A', suit='spades')\n",
      "Cardi(rank='K', suit='spades')\n",
      "Cardi(rank='Q', suit='spades')\n",
      "Cardi(rank='J', suit='spades')\n",
      "Cardi(rank='10', suit='spades')\n",
      "Cardi(rank='9', suit='spades')\n",
      "Cardi(rank='8', suit='spades')\n",
      "Cardi(rank='7', suit='spades')\n",
      "Cardi(rank='6', suit='spades')\n",
      "Cardi(rank='5', suit='spades')\n",
      "Cardi(rank='4', suit='spades')\n",
      "Cardi(rank='3', suit='spades')\n",
      "Cardi(rank='2', suit='spades')\n"
     ]
    }
   ],
   "source": [
    "for i in reversed(deck):\n",
    "    print(i)"
   ]
  },
  {
   "cell_type": "code",
   "execution_count": 67,
   "id": "a5e39567",
   "metadata": {},
   "outputs": [],
   "source": [
    "#to check if the object is iterable\n",
    "try:\n",
    "     some_object_iterator = iter(deck)\n",
    "except TypeError as te:\n",
    "     print(some_object, 'is not iterable')\n"
   ]
  },
  {
   "cell_type": "code",
   "execution_count": 69,
   "id": "8307bcb0",
   "metadata": {},
   "outputs": [
    {
     "name": "stdout",
     "output_type": "stream",
     "text": [
      "Cardi(rank='2', suit='spades')\n",
      "Cardi(rank='3', suit='spades')\n",
      "Cardi(rank='4', suit='spades')\n",
      "Cardi(rank='5', suit='spades')\n",
      "Cardi(rank='6', suit='spades')\n",
      "Cardi(rank='7', suit='spades')\n",
      "Cardi(rank='8', suit='spades')\n",
      "Cardi(rank='9', suit='spades')\n",
      "Cardi(rank='10', suit='spades')\n",
      "Cardi(rank='J', suit='spades')\n",
      "Cardi(rank='Q', suit='spades')\n",
      "Cardi(rank='K', suit='spades')\n",
      "Cardi(rank='A', suit='spades')\n",
      "Cardi(rank='2', suit='diamonds')\n",
      "Cardi(rank='3', suit='diamonds')\n",
      "Cardi(rank='4', suit='diamonds')\n",
      "Cardi(rank='5', suit='diamonds')\n",
      "Cardi(rank='6', suit='diamonds')\n",
      "Cardi(rank='7', suit='diamonds')\n",
      "Cardi(rank='8', suit='diamonds')\n",
      "Cardi(rank='9', suit='diamonds')\n",
      "Cardi(rank='10', suit='diamonds')\n",
      "Cardi(rank='J', suit='diamonds')\n",
      "Cardi(rank='Q', suit='diamonds')\n",
      "Cardi(rank='K', suit='diamonds')\n",
      "Cardi(rank='A', suit='diamonds')\n",
      "Cardi(rank='2', suit='clubs')\n",
      "Cardi(rank='3', suit='clubs')\n",
      "Cardi(rank='4', suit='clubs')\n",
      "Cardi(rank='5', suit='clubs')\n",
      "Cardi(rank='6', suit='clubs')\n",
      "Cardi(rank='7', suit='clubs')\n",
      "Cardi(rank='8', suit='clubs')\n",
      "Cardi(rank='9', suit='clubs')\n",
      "Cardi(rank='10', suit='clubs')\n",
      "Cardi(rank='J', suit='clubs')\n",
      "Cardi(rank='Q', suit='clubs')\n",
      "Cardi(rank='K', suit='clubs')\n",
      "Cardi(rank='A', suit='clubs')\n",
      "Cardi(rank='2', suit='hearts')\n",
      "Cardi(rank='3', suit='hearts')\n",
      "Cardi(rank='4', suit='hearts')\n",
      "Cardi(rank='5', suit='hearts')\n",
      "Cardi(rank='6', suit='hearts')\n",
      "Cardi(rank='7', suit='hearts')\n",
      "Cardi(rank='8', suit='hearts')\n",
      "Cardi(rank='9', suit='hearts')\n",
      "Cardi(rank='10', suit='hearts')\n",
      "Cardi(rank='J', suit='hearts')\n",
      "Cardi(rank='Q', suit='hearts')\n",
      "Cardi(rank='K', suit='hearts')\n",
      "Cardi(rank='A', suit='hearts')\n"
     ]
    }
   ],
   "source": [
    "for i in some_object_iterator:\n",
    "    print(i)"
   ]
  },
  {
   "cell_type": "code",
   "execution_count": 70,
   "id": "b6bc5eb8",
   "metadata": {},
   "outputs": [
    {
     "data": {
      "text/plain": [
       "True"
      ]
     },
     "execution_count": 70,
     "metadata": {},
     "output_type": "execute_result"
    }
   ],
   "source": [
    "Card('Q','hearts') in deck"
   ]
  },
  {
   "cell_type": "code",
   "execution_count": 97,
   "id": "9aa5860c",
   "metadata": {},
   "outputs": [
    {
     "name": "stdout",
     "output_type": "stream",
     "text": [
      "{'spades': 3, 'hearts': 2, 'diamonds': 1, 'clubs': 0}\n"
     ]
    }
   ],
   "source": [
    "suit_values=dict(spades=3,hearts=2,diamonds=1,clubs=0)\n",
    "print(suit_values)\n",
    "\n",
    "def spades_high(card):\n",
    "   # print(FrenchDeck.ranks)\n",
    "    rank_value=FrenchDeck.ranks.index(card.rank)\n",
    "    #print(rank_value)\n",
    "    return rank_value*len(suit_values)+suit_values[card.suit]"
   ]
  },
  {
   "cell_type": "code",
   "execution_count": 80,
   "id": "add4cfca",
   "metadata": {},
   "outputs": [
    {
     "data": {
      "text/plain": [
       "0"
      ]
     },
     "execution_count": 80,
     "metadata": {},
     "output_type": "execute_result"
    }
   ],
   "source": [
    "a=[1,2,3]\n",
    "a.index(1)"
   ]
  },
  {
   "cell_type": "code",
   "execution_count": 81,
   "id": "cd899cae",
   "metadata": {},
   "outputs": [
    {
     "data": {
      "text/plain": [
       "['2', '3', '4', '5', '6', '7', '8', '9', '10', 'J', 'Q', 'K', 'A']"
      ]
     },
     "execution_count": 81,
     "metadata": {},
     "output_type": "execute_result"
    }
   ],
   "source": [
    "o=FrenchDeck()\n",
    "o.ranks"
   ]
  },
  {
   "cell_type": "code",
   "execution_count": 100,
   "id": "b8443836",
   "metadata": {},
   "outputs": [
    {
     "data": {
      "text/plain": [
       "51"
      ]
     },
     "execution_count": 100,
     "metadata": {},
     "output_type": "execute_result"
    }
   ],
   "source": [
    "selected_card=Card(rank='A', suit='spades')\n",
    "spades_high(selected_card)"
   ]
  },
  {
   "cell_type": "code",
   "execution_count": 101,
   "id": "7452e5a7",
   "metadata": {},
   "outputs": [
    {
     "name": "stdout",
     "output_type": "stream",
     "text": [
      "Cardi(rank='2', suit='clubs')\n",
      "Cardi(rank='2', suit='diamonds')\n",
      "Cardi(rank='2', suit='hearts')\n",
      "Cardi(rank='2', suit='spades')\n",
      "Cardi(rank='3', suit='clubs')\n",
      "Cardi(rank='3', suit='diamonds')\n",
      "Cardi(rank='3', suit='hearts')\n",
      "Cardi(rank='3', suit='spades')\n",
      "Cardi(rank='4', suit='clubs')\n",
      "Cardi(rank='4', suit='diamonds')\n",
      "Cardi(rank='4', suit='hearts')\n",
      "Cardi(rank='4', suit='spades')\n",
      "Cardi(rank='5', suit='clubs')\n",
      "Cardi(rank='5', suit='diamonds')\n",
      "Cardi(rank='5', suit='hearts')\n",
      "Cardi(rank='5', suit='spades')\n",
      "Cardi(rank='6', suit='clubs')\n",
      "Cardi(rank='6', suit='diamonds')\n",
      "Cardi(rank='6', suit='hearts')\n",
      "Cardi(rank='6', suit='spades')\n",
      "Cardi(rank='7', suit='clubs')\n",
      "Cardi(rank='7', suit='diamonds')\n",
      "Cardi(rank='7', suit='hearts')\n",
      "Cardi(rank='7', suit='spades')\n",
      "Cardi(rank='8', suit='clubs')\n",
      "Cardi(rank='8', suit='diamonds')\n",
      "Cardi(rank='8', suit='hearts')\n",
      "Cardi(rank='8', suit='spades')\n",
      "Cardi(rank='9', suit='clubs')\n",
      "Cardi(rank='9', suit='diamonds')\n",
      "Cardi(rank='9', suit='hearts')\n",
      "Cardi(rank='9', suit='spades')\n",
      "Cardi(rank='10', suit='clubs')\n",
      "Cardi(rank='10', suit='diamonds')\n",
      "Cardi(rank='10', suit='hearts')\n",
      "Cardi(rank='10', suit='spades')\n",
      "Cardi(rank='J', suit='clubs')\n",
      "Cardi(rank='J', suit='diamonds')\n",
      "Cardi(rank='J', suit='hearts')\n",
      "Cardi(rank='J', suit='spades')\n",
      "Cardi(rank='Q', suit='clubs')\n",
      "Cardi(rank='Q', suit='diamonds')\n",
      "Cardi(rank='Q', suit='hearts')\n",
      "Cardi(rank='Q', suit='spades')\n",
      "Cardi(rank='K', suit='clubs')\n",
      "Cardi(rank='K', suit='diamonds')\n",
      "Cardi(rank='K', suit='hearts')\n",
      "Cardi(rank='K', suit='spades')\n",
      "Cardi(rank='A', suit='clubs')\n",
      "Cardi(rank='A', suit='diamonds')\n",
      "Cardi(rank='A', suit='hearts')\n",
      "Cardi(rank='A', suit='spades')\n"
     ]
    }
   ],
   "source": [
    "# we can use spades_high to list our deck in increasing order\n",
    "\n",
    "for card in sorted(deck,key=spades_high):\n",
    "    print(card)"
   ]
  },
  {
   "cell_type": "code",
   "execution_count": 102,
   "id": "519b0d4d",
   "metadata": {},
   "outputs": [
    {
     "name": "stdout",
     "output_type": "stream",
     "text": [
      "<list_iterator object at 0x000001825545DB80>\n"
     ]
    }
   ],
   "source": [
    "x=[1,2,3]\n",
    "print(iter(x))"
   ]
  },
  {
   "cell_type": "code",
   "execution_count": 125,
   "id": "07f08b2b",
   "metadata": {},
   "outputs": [],
   "source": [
    "#Emulating Numeric Types\n",
    "\n",
    "#A simple two-dimensional vector class\n",
    "import math\n",
    "\n",
    "class Vector:\n",
    "    def __init__(self,x=0,y=0):\n",
    "        self.x=x\n",
    "        self.y=y\n",
    "    \n",
    "    def __repr__(self):\n",
    "        return f'Vector({self.x!r},{self.y!r})'\n",
    "    \n",
    "    def __abs__(self):\n",
    "        return math.hypot(self.x,self.y)\n",
    "    \n",
    "    def __bool__(self):\n",
    "        return bool(abs(self))\n",
    "    \n",
    "    def __add__(self,other):\n",
    "        x=self.x+other.x\n",
    "        y=self.y+other.y\n",
    "        return Vector(x,y)\n",
    "    \n",
    "    def __mul__(self,scalar):\n",
    "        return Vector(self.x*scalar,self.y*scalar)"
   ]
  },
  {
   "cell_type": "code",
   "execution_count": 114,
   "id": "63848ddd",
   "metadata": {},
   "outputs": [
    {
     "data": {
      "text/plain": [
       "Vector(4,6)"
      ]
     },
     "execution_count": 114,
     "metadata": {},
     "output_type": "execute_result"
    }
   ],
   "source": [
    "Vector(1,2)+Vector(3,4)\n",
    "\n",
    "# '+' and '*' operators create and return a new instance of Vector and do not modify either operand --> they just merely read the data from self and other\n",
    "#This is the expected behaviour of infix operators --> to create new Objects and not touch their operands"
   ]
  },
  {
   "cell_type": "code",
   "execution_count": 119,
   "id": "7a4b95c2",
   "metadata": {},
   "outputs": [
    {
     "name": "stdout",
     "output_type": "stream",
     "text": [
      "Vector(50,100)\n"
     ]
    },
    {
     "ename": "TypeError",
     "evalue": "unsupported operand type(s) for *: 'int' and 'Vector'",
     "output_type": "error",
     "traceback": [
      "\u001b[1;31m---------------------------------------------------------------------------\u001b[0m",
      "\u001b[1;31mTypeError\u001b[0m                                 Traceback (most recent call last)",
      "Input \u001b[1;32mIn [119]\u001b[0m, in \u001b[0;36m<cell line: 2>\u001b[1;34m()\u001b[0m\n\u001b[0;32m      1\u001b[0m \u001b[38;5;28mprint\u001b[39m(Vector(\u001b[38;5;241m10\u001b[39m,\u001b[38;5;241m20\u001b[39m)\u001b[38;5;241m*\u001b[39m\u001b[38;5;241m5\u001b[39m)\n\u001b[1;32m----> 2\u001b[0m \u001b[38;5;28mprint\u001b[39m(\u001b[38;5;241;43m5\u001b[39;49m\u001b[38;5;241;43m*\u001b[39;49m\u001b[43mVector\u001b[49m\u001b[43m(\u001b[49m\u001b[38;5;241;43m10\u001b[39;49m\u001b[43m,\u001b[49m\u001b[38;5;241;43m20\u001b[39;49m\u001b[43m)\u001b[49m)\n",
      "\u001b[1;31mTypeError\u001b[0m: unsupported operand type(s) for *: 'int' and 'Vector'"
     ]
    }
   ],
   "source": [
    "print(Vector(10,20)*5)\n",
    "print(5*Vector(10,20)) #This violation is taken care in future chapters. STAY TUNED LOL"
   ]
  },
  {
   "cell_type": "code",
   "execution_count": 129,
   "id": "8ab1f28d",
   "metadata": {},
   "outputs": [
    {
     "name": "stdout",
     "output_type": "stream",
     "text": [
      "Vector(1,2)\n",
      "Vector(1,2)\n",
      "Vector(1,2)\n",
      "Vector(1,2)\n"
     ]
    }
   ],
   "source": [
    "obj=Vector(1,2)\n",
    "print(repr(obj))\n",
    "print(obj.__repr__())\n",
    "print(obj.__str__())\n",
    "print(str(obj))"
   ]
  },
  {
   "cell_type": "code",
   "execution_count": 130,
   "id": "7e88c1a0",
   "metadata": {},
   "outputs": [],
   "source": [
    "#Faster implementation of Vector.__bool__() is this\n",
    "def __bool__(self):\n",
    "    return bool(self.x or self.y)\n",
    "\n",
    "# as it avoids __abs__, square and square root"
   ]
  },
  {
   "cell_type": "code",
   "execution_count": 141,
   "id": "55db2c78",
   "metadata": {},
   "outputs": [
    {
     "name": "stdout",
     "output_type": "stream",
     "text": [
      "10\n",
      "26\n",
      "1\n",
      "26\n"
     ]
    }
   ],
   "source": [
    "print(10 or 20)\n",
    "print(0 or 26)\n",
    "print(1 or 2630)\n",
    "print(26 or 0)"
   ]
  },
  {
   "cell_type": "code",
   "execution_count": 140,
   "id": "1a41898f",
   "metadata": {},
   "outputs": [
    {
     "name": "stdout",
     "output_type": "stream",
     "text": [
      "20\n",
      "0\n",
      "0\n"
     ]
    }
   ],
   "source": [
    "print(10 and 20)\n",
    "print(26 and 0)\n",
    "print(0 and 30)"
   ]
  },
  {
   "cell_type": "code",
   "execution_count": 147,
   "id": "b16ec9d1",
   "metadata": {},
   "outputs": [
    {
     "name": "stdout",
     "output_type": "stream",
     "text": [
      "False\n",
      "True\n"
     ]
    }
   ],
   "source": [
    "print(not 26)\n",
    "print(not 0)"
   ]
  },
  {
   "cell_type": "code",
   "execution_count": 144,
   "id": "6338cc8f",
   "metadata": {},
   "outputs": [
    {
     "name": "stdout",
     "output_type": "stream",
     "text": [
      "<module 'collections.abc' from 'C:\\\\Users\\\\mpree\\\\anaconda3\\\\lib\\\\collections\\\\abc.py'>\n"
     ]
    }
   ],
   "source": []
  },
  {
   "cell_type": "code",
   "execution_count": null,
   "id": "5e04380d",
   "metadata": {},
   "outputs": [],
   "source": []
  }
 ],
 "metadata": {
  "kernelspec": {
   "display_name": "Python 3 (ipykernel)",
   "language": "python",
   "name": "python3"
  },
  "language_info": {
   "codemirror_mode": {
    "name": "ipython",
    "version": 3
   },
   "file_extension": ".py",
   "mimetype": "text/x-python",
   "name": "python",
   "nbconvert_exporter": "python",
   "pygments_lexer": "ipython3",
   "version": "3.9.12"
  }
 },
 "nbformat": 4,
 "nbformat_minor": 5
}
