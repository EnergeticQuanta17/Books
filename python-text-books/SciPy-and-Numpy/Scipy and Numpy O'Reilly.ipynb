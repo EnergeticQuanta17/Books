{
 "cells": [
  {
   "cell_type": "code",
   "execution_count": 3,
   "id": "dad136ab",
   "metadata": {},
   "outputs": [],
   "source": [
    "import numpy as np"
   ]
  },
  {
   "cell_type": "code",
   "execution_count": 2,
   "id": "b40d352e",
   "metadata": {},
   "outputs": [
    {
     "name": "stdout",
     "output_type": "stream",
     "text": [
      "[ 0  1  2  3  4  5  6  7  8  9 10 11 12 13 14 15 16 17 18 19 20 21 22 23\n",
      " 24 25 26 27 28 29 30 31 32 33 34 35 36 37 38 39 40 41 42 43 44 45 46 47\n",
      " 48 49 50 51 52 53 54 55 56 57 58 59 60 61 62 63 64 65 66 67 68 69 70 71\n",
      " 72 73 74 75 76 77 78 79 80 81 82 83 84 85 86 87 88 89 90 91 92 93 94 95\n",
      " 96 97 98 99]\n"
     ]
    }
   ],
   "source": [
    "arr=np.arange(100)\n",
    "print(arr)"
   ]
  },
  {
   "cell_type": "code",
   "execution_count": 3,
   "id": "04740bfb",
   "metadata": {},
   "outputs": [
    {
     "data": {
      "text/plain": [
       "numpy.ndarray"
      ]
     },
     "execution_count": 3,
     "metadata": {},
     "output_type": "execute_result"
    }
   ],
   "source": [
    "type(arr)"
   ]
  },
  {
   "cell_type": "code",
   "execution_count": 4,
   "id": "29df178c",
   "metadata": {},
   "outputs": [
    {
     "name": "stdout",
     "output_type": "stream",
     "text": [
      "[0, 1, 2, 3, 4, 5, 6, 7, 8, 9, 10, 11, 12, 13, 14, 15, 16, 17, 18, 19, 20, 21, 22, 23, 24, 25, 26, 27, 28, 29, 30, 31, 32, 33, 34, 35, 36, 37, 38, 39, 40, 41, 42, 43, 44, 45, 46, 47, 48, 49, 50, 51, 52, 53, 54, 55, 56, 57, 58, 59, 60, 61, 62, 63, 64, 65, 66, 67, 68, 69, 70, 71, 72, 73, 74, 75, 76, 77, 78, 79, 80, 81, 82, 83, 84, 85, 86, 87, 88, 89, 90, 91, 92, 93, 94, 95, 96, 97, 98, 99]\n"
     ]
    },
    {
     "data": {
      "text/plain": [
       "list"
      ]
     },
     "execution_count": 4,
     "metadata": {},
     "output_type": "execute_result"
    }
   ],
   "source": [
    "larr=arr.tolist()\n",
    "print(larr)\n",
    "type(larr)"
   ]
  },
  {
   "cell_type": "code",
   "execution_count": 5,
   "id": "a3ab8eda",
   "metadata": {},
   "outputs": [],
   "source": [
    "def list_times(alist, scalar):\n",
    "    for i,val in enumerate(alist):\n",
    "        alist[i]=val*scalar\n",
    "    return alist"
   ]
  },
  {
   "cell_type": "code",
   "execution_count": 6,
   "id": "4f308ccc",
   "metadata": {},
   "outputs": [
    {
     "data": {
      "text/plain": [
       "<enumerate at 0x2194eb149c0>"
      ]
     },
     "execution_count": 6,
     "metadata": {},
     "output_type": "execute_result"
    }
   ],
   "source": [
    "enumerate(larr)"
   ]
  },
  {
   "cell_type": "code",
   "execution_count": 7,
   "id": "353ae010",
   "metadata": {},
   "outputs": [
    {
     "name": "stdout",
     "output_type": "stream",
     "text": [
      "[(0, 0), (1, 1), (2, 2), (3, 3), (4, 4), (5, 5), (6, 6), (7, 7), (8, 8), (9, 9), (10, 10), (11, 11), (12, 12), (13, 13), (14, 14), (15, 15), (16, 16), (17, 17), (18, 18), (19, 19), (20, 20), (21, 21), (22, 22), (23, 23), (24, 24), (25, 25), (26, 26), (27, 27), (28, 28), (29, 29), (30, 30), (31, 31), (32, 32), (33, 33), (34, 34), (35, 35), (36, 36), (37, 37), (38, 38), (39, 39), (40, 40), (41, 41), (42, 42), (43, 43), (44, 44), (45, 45), (46, 46), (47, 47), (48, 48), (49, 49), (50, 50), (51, 51), (52, 52), (53, 53), (54, 54), (55, 55), (56, 56), (57, 57), (58, 58), (59, 59), (60, 60), (61, 61), (62, 62), (63, 63), (64, 64), (65, 65), (66, 66), (67, 67), (68, 68), (69, 69), (70, 70), (71, 71), (72, 72), (73, 73), (74, 74), (75, 75), (76, 76), (77, 77), (78, 78), (79, 79), (80, 80), (81, 81), (82, 82), (83, 83), (84, 84), (85, 85), (86, 86), (87, 87), (88, 88), (89, 89), (90, 90), (91, 91), (92, 92), (93, 93), (94, 94), (95, 95), (96, 96), (97, 97), (98, 98), (99, 99)]\n"
     ]
    }
   ],
   "source": [
    "print(list(enumerate(larr)))"
   ]
  },
  {
   "cell_type": "code",
   "execution_count": 8,
   "id": "66941238",
   "metadata": {},
   "outputs": [
    {
     "name": "stdout",
     "output_type": "stream",
     "text": [
      "2.23 µs ± 217 ns per loop (mean ± std. dev. of 7 runs, 1,000,000 loops each)\n"
     ]
    }
   ],
   "source": [
    "timeit arr*1.1\n"
   ]
  },
  {
   "cell_type": "code",
   "execution_count": 9,
   "id": "cac1c780",
   "metadata": {},
   "outputs": [
    {
     "name": "stdout",
     "output_type": "stream",
     "text": [
      "12.3 µs ± 314 ns per loop (mean ± std. dev. of 7 runs, 100,000 loops each)\n"
     ]
    }
   ],
   "source": [
    "timeit list_times(larr,1.1)"
   ]
  },
  {
   "cell_type": "code",
   "execution_count": 10,
   "id": "09cffe6b",
   "metadata": {},
   "outputs": [
    {
     "data": {
      "text/plain": [
       "<enumerate at 0x2194eb18400>"
      ]
     },
     "execution_count": 10,
     "metadata": {},
     "output_type": "execute_result"
    }
   ],
   "source": [
    "list1=enumerate(larr,start=26)\n",
    "list1"
   ]
  },
  {
   "cell_type": "code",
   "execution_count": 11,
   "id": "dcb4cf33",
   "metadata": {},
   "outputs": [
    {
     "name": "stdout",
     "output_type": "stream",
     "text": [
      "[1 2 3] <class 'numpy.ndarray'>\n"
     ]
    }
   ],
   "source": [
    "array=[1,2,3]\n",
    "arr=np.array(array)\n",
    "print(arr,type(arr))"
   ]
  },
  {
   "cell_type": "code",
   "execution_count": 12,
   "id": "91fa8111",
   "metadata": {},
   "outputs": [
    {
     "data": {
      "text/plain": [
       "array([0., 0., 0., 0., 0., 0., 0., 0., 0., 0.])"
      ]
     },
     "execution_count": 12,
     "metadata": {},
     "output_type": "execute_result"
    }
   ],
   "source": [
    "arr=np.zeros(10)\n",
    "arr"
   ]
  },
  {
   "cell_type": "code",
   "execution_count": 13,
   "id": "6b0a08ed",
   "metadata": {},
   "outputs": [
    {
     "name": "stdout",
     "output_type": "stream",
     "text": [
      "[0.0, 2.5, 5.0, 7.5, 10.0]\n"
     ]
    }
   ],
   "source": [
    "arr = np.linspace(0,10,5)\n",
    "print(list(arr))"
   ]
  },
  {
   "cell_type": "code",
   "execution_count": 14,
   "id": "c2e9d515",
   "metadata": {},
   "outputs": [
    {
     "name": "stdout",
     "output_type": "stream",
     "text": [
      "[1.0, 316.22776601683796, 100000.0, 31622776.60168379, 10000000000.0]\n"
     ]
    }
   ],
   "source": [
    "#log of each of the array elememt will give the above element\n",
    "arr=np.logspace(0,10,5,base=10.0)\n",
    "print(list(arr))"
   ]
  },
  {
   "cell_type": "code",
   "execution_count": 15,
   "id": "9c78a38a",
   "metadata": {},
   "outputs": [
    {
     "name": "stdout",
     "output_type": "stream",
     "text": [
      "[[0. 0. 0. 0. 0.]\n",
      " [0. 0. 0. 0. 0.]\n",
      " [0. 0. 0. 0. 0.]\n",
      " [0. 0. 0. 0. 0.]\n",
      " [0. 0. 0. 0. 0.]]\n"
     ]
    }
   ],
   "source": [
    "image=np.zeros((5,5))\n",
    "print(image)"
   ]
  },
  {
   "cell_type": "code",
   "execution_count": 16,
   "id": "a6c1d1a0",
   "metadata": {},
   "outputs": [
    {
     "name": "stdout",
     "output_type": "stream",
     "text": [
      "[[0 0 0 0 0]\n",
      " [0 0 0 0 0]\n",
      " [0 0 0 0 0]\n",
      " [0 0 0 0 0]\n",
      " [0 0 0 0 0]]\n"
     ]
    }
   ],
   "source": [
    "image=np.zeros([5,5],dtype=int)\n",
    "print(image)"
   ]
  },
  {
   "cell_type": "code",
   "execution_count": 17,
   "id": "fb8df40c",
   "metadata": {},
   "outputs": [
    {
     "name": "stdout",
     "output_type": "stream",
     "text": [
      "[[[0 0 0 0 0]\n",
      "  [0 0 0 0 0]\n",
      "  [0 0 0 0 0]\n",
      "  [0 0 0 0 0]\n",
      "  [0 0 0 0 0]]\n",
      "\n",
      " [[0 0 0 0 0]\n",
      "  [0 0 0 0 0]\n",
      "  [0 0 0 0 0]\n",
      "  [0 0 0 0 0]\n",
      "  [0 0 0 0 0]]\n",
      "\n",
      " [[0 0 0 0 0]\n",
      "  [0 0 0 0 0]\n",
      "  [0 0 0 0 0]\n",
      "  [0 0 0 0 0]\n",
      "  [0 0 0 0 0]]\n",
      "\n",
      " [[0 0 0 0 0]\n",
      "  [0 0 0 0 0]\n",
      "  [0 0 0 0 0]\n",
      "  [0 0 0 0 0]\n",
      "  [0 0 0 0 0]]\n",
      "\n",
      " [[0 0 0 0 0]\n",
      "  [0 0 0 0 0]\n",
      "  [0 0 0 0 0]\n",
      "  [0 0 0 0 0]\n",
      "  [0 0 0 0 0]]]\n"
     ]
    }
   ],
   "source": [
    "image=np.zeros([5,5,5],dtype=int)\n",
    "print(image)"
   ]
  },
  {
   "cell_type": "code",
   "execution_count": 18,
   "id": "3324fece",
   "metadata": {},
   "outputs": [
    {
     "name": "stdout",
     "output_type": "stream",
     "text": [
      "[[[-26 -26 -26]\n",
      "  [-26 -26 -26]\n",
      "  [-26 -26 -26]]\n",
      "\n",
      " [[-26 -26 -26]\n",
      "  [-26 -26 -26]\n",
      "  [-26 -26 -26]]\n",
      "\n",
      " [[-26 -26 -26]\n",
      "  [-26 -26 -26]\n",
      "  [-26 -26 -26]]]\n"
     ]
    }
   ],
   "source": [
    "cube=np.zeros((3,3,3)).astype(int)-26\n",
    "print(cube)"
   ]
  },
  {
   "cell_type": "code",
   "execution_count": 19,
   "id": "81b12a23",
   "metadata": {},
   "outputs": [
    {
     "name": "stdout",
     "output_type": "stream",
     "text": [
      "[[[  0   1   2   3   4   5   6   7   8   9]\n",
      "  [ 10  11  12  13  14  15  16  17  18  19]\n",
      "  [ 20  21  22  23  24  25  26  27  28  29]\n",
      "  [ 30  31  32  33  34  35  36  37  38  39]\n",
      "  [ 40  41  42  43  44  45  46  47  48  49]\n",
      "  [ 50  51  52  53  54  55  56  57  58  59]\n",
      "  [ 60  61  62  63  64  65  66  67  68  69]\n",
      "  [ 70  71  72  73  74  75  76  77  78  79]\n",
      "  [ 80  81  82  83  84  85  86  87  88  89]\n",
      "  [ 90  91  92  93  94  95  96  97  98  99]]\n",
      "\n",
      " [[100 101 102 103 104 105 106 107 108 109]\n",
      "  [110 111 112 113 114 115 116 117 118 119]\n",
      "  [120 121 122 123 124 125 126 127 128 129]\n",
      "  [130 131 132 133 134 135 136 137 138 139]\n",
      "  [140 141 142 143 144 145 146 147 148 149]\n",
      "  [150 151 152 153 154 155 156 157 158 159]\n",
      "  [160 161 162 163 164 165 166 167 168 169]\n",
      "  [170 171 172 173 174 175 176 177 178 179]\n",
      "  [180 181 182 183 184 185 186 187 188 189]\n",
      "  [190 191 192 193 194 195 196 197 198 199]]\n",
      "\n",
      " [[200 201 202 203 204 205 206 207 208 209]\n",
      "  [210 211 212 213 214 215 216 217 218 219]\n",
      "  [220 221 222 223 224 225 226 227 228 229]\n",
      "  [230 231 232 233 234 235 236 237 238 239]\n",
      "  [240 241 242 243 244 245 246 247 248 249]\n",
      "  [250 251 252 253 254 255 256 257 258 259]\n",
      "  [260 261 262 263 264 265 266 267 268 269]\n",
      "  [270 271 272 273 274 275 276 277 278 279]\n",
      "  [280 281 282 283 284 285 286 287 288 289]\n",
      "  [290 291 292 293 294 295 296 297 298 299]]\n",
      "\n",
      " [[300 301 302 303 304 305 306 307 308 309]\n",
      "  [310 311 312 313 314 315 316 317 318 319]\n",
      "  [320 321 322 323 324 325 326 327 328 329]\n",
      "  [330 331 332 333 334 335 336 337 338 339]\n",
      "  [340 341 342 343 344 345 346 347 348 349]\n",
      "  [350 351 352 353 354 355 356 357 358 359]\n",
      "  [360 361 362 363 364 365 366 367 368 369]\n",
      "  [370 371 372 373 374 375 376 377 378 379]\n",
      "  [380 381 382 383 384 385 386 387 388 389]\n",
      "  [390 391 392 393 394 395 396 397 398 399]]\n",
      "\n",
      " [[400 401 402 403 404 405 406 407 408 409]\n",
      "  [410 411 412 413 414 415 416 417 418 419]\n",
      "  [420 421 422 423 424 425 426 427 428 429]\n",
      "  [430 431 432 433 434 435 436 437 438 439]\n",
      "  [440 441 442 443 444 445 446 447 448 449]\n",
      "  [450 451 452 453 454 455 456 457 458 459]\n",
      "  [460 461 462 463 464 465 466 467 468 469]\n",
      "  [470 471 472 473 474 475 476 477 478 479]\n",
      "  [480 481 482 483 484 485 486 487 488 489]\n",
      "  [490 491 492 493 494 495 496 497 498 499]]\n",
      "\n",
      " [[500 501 502 503 504 505 506 507 508 509]\n",
      "  [510 511 512 513 514 515 516 517 518 519]\n",
      "  [520 521 522 523 524 525 526 527 528 529]\n",
      "  [530 531 532 533 534 535 536 537 538 539]\n",
      "  [540 541 542 543 544 545 546 547 548 549]\n",
      "  [550 551 552 553 554 555 556 557 558 559]\n",
      "  [560 561 562 563 564 565 566 567 568 569]\n",
      "  [570 571 572 573 574 575 576 577 578 579]\n",
      "  [580 581 582 583 584 585 586 587 588 589]\n",
      "  [590 591 592 593 594 595 596 597 598 599]]\n",
      "\n",
      " [[600 601 602 603 604 605 606 607 608 609]\n",
      "  [610 611 612 613 614 615 616 617 618 619]\n",
      "  [620 621 622 623 624 625 626 627 628 629]\n",
      "  [630 631 632 633 634 635 636 637 638 639]\n",
      "  [640 641 642 643 644 645 646 647 648 649]\n",
      "  [650 651 652 653 654 655 656 657 658 659]\n",
      "  [660 661 662 663 664 665 666 667 668 669]\n",
      "  [670 671 672 673 674 675 676 677 678 679]\n",
      "  [680 681 682 683 684 685 686 687 688 689]\n",
      "  [690 691 692 693 694 695 696 697 698 699]]\n",
      "\n",
      " [[700 701 702 703 704 705 706 707 708 709]\n",
      "  [710 711 712 713 714 715 716 717 718 719]\n",
      "  [720 721 722 723 724 725 726 727 728 729]\n",
      "  [730 731 732 733 734 735 736 737 738 739]\n",
      "  [740 741 742 743 744 745 746 747 748 749]\n",
      "  [750 751 752 753 754 755 756 757 758 759]\n",
      "  [760 761 762 763 764 765 766 767 768 769]\n",
      "  [770 771 772 773 774 775 776 777 778 779]\n",
      "  [780 781 782 783 784 785 786 787 788 789]\n",
      "  [790 791 792 793 794 795 796 797 798 799]]\n",
      "\n",
      " [[800 801 802 803 804 805 806 807 808 809]\n",
      "  [810 811 812 813 814 815 816 817 818 819]\n",
      "  [820 821 822 823 824 825 826 827 828 829]\n",
      "  [830 831 832 833 834 835 836 837 838 839]\n",
      "  [840 841 842 843 844 845 846 847 848 849]\n",
      "  [850 851 852 853 854 855 856 857 858 859]\n",
      "  [860 861 862 863 864 865 866 867 868 869]\n",
      "  [870 871 872 873 874 875 876 877 878 879]\n",
      "  [880 881 882 883 884 885 886 887 888 889]\n",
      "  [890 891 892 893 894 895 896 897 898 899]]\n",
      "\n",
      " [[900 901 902 903 904 905 906 907 908 909]\n",
      "  [910 911 912 913 914 915 916 917 918 919]\n",
      "  [920 921 922 923 924 925 926 927 928 929]\n",
      "  [930 931 932 933 934 935 936 937 938 939]\n",
      "  [940 941 942 943 944 945 946 947 948 949]\n",
      "  [950 951 952 953 954 955 956 957 958 959]\n",
      "  [960 961 962 963 964 965 966 967 968 969]\n",
      "  [970 971 972 973 974 975 976 977 978 979]\n",
      "  [980 981 982 983 984 985 986 987 988 989]\n",
      "  [990 991 992 993 994 995 996 997 998 999]]]\n"
     ]
    }
   ],
   "source": [
    "arr1d=np.arange(1000)\n",
    "arr3d=np.reshape(arr1d,(10,10,10))\n",
    "print(arr3d)"
   ]
  },
  {
   "cell_type": "code",
   "execution_count": 20,
   "id": "3cc89202",
   "metadata": {},
   "outputs": [
    {
     "name": "stdout",
     "output_type": "stream",
     "text": [
      "[[[  0   1   2   3   4   5   6   7   8   9]\n",
      "  [ 10  11  12  13  14  15  16  17  18  19]\n",
      "  [ 20  21  22  23  24  25  26  27  28  29]\n",
      "  [ 30  31  32  33  34  35  36  37  38  39]\n",
      "  [ 40  41  42  43  44  45  46  47  48  49]\n",
      "  [ 50  51  52  53  54  55  56  57  58  59]\n",
      "  [ 60  61  62  63  64  65  66  67  68  69]\n",
      "  [ 70  71  72  73  74  75  76  77  78  79]\n",
      "  [ 80  81  82  83  84  85  86  87  88  89]\n",
      "  [ 90  91  92  93  94  95  96  97  98  99]]\n",
      "\n",
      " [[100 101 102 103 104 105 106 107 108 109]\n",
      "  [110 111 112 113 114 115 116 117 118 119]\n",
      "  [120 121 122 123 124 125 126 127 128 129]\n",
      "  [130 131 132 133 134 135 136 137 138 139]\n",
      "  [140 141 142 143 144 145 146 147 148 149]\n",
      "  [150 151 152 153 154 155 156 157 158 159]\n",
      "  [160 161 162 163 164 165 166 167 168 169]\n",
      "  [170 171 172 173 174 175 176 177 178 179]\n",
      "  [180 181 182 183 184 185 186 187 188 189]\n",
      "  [190 191 192 193 194 195 196 197 198 199]]\n",
      "\n",
      " [[200 201 202 203 204 205 206 207 208 209]\n",
      "  [210 211 212 213 214 215 216 217 218 219]\n",
      "  [220 221 222 223 224 225 226 227 228 229]\n",
      "  [230 231 232 233 234 235 236 237 238 239]\n",
      "  [240 241 242 243 244 245 246 247 248 249]\n",
      "  [250 251 252 253 254 255 256 257 258 259]\n",
      "  [260 261 262 263 264 265 266 267 268 269]\n",
      "  [270 271 272 273 274 275 276 277 278 279]\n",
      "  [280 281 282 283 284 285 286 287 288 289]\n",
      "  [290 291 292 293 294 295 296 297 298 299]]\n",
      "\n",
      " [[300 301 302 303 304 305 306 307 308 309]\n",
      "  [310 311 312 313 314 315 316 317 318 319]\n",
      "  [320 321 322 323 324 325 326 327 328 329]\n",
      "  [330 331 332 333 334 335 336 337 338 339]\n",
      "  [340 341 342 343 344 345 346 347 348 349]\n",
      "  [350 351 352 353 354 355 356 357 358 359]\n",
      "  [360 361 362 363 364 365 366 367 368 369]\n",
      "  [370 371 372 373 374 375 376 377 378 379]\n",
      "  [380 381 382 383 384 385 386 387 388 389]\n",
      "  [390 391 392 393 394 395 396 397 398 399]]\n",
      "\n",
      " [[400 401 402 403 404 405 406 407 408 409]\n",
      "  [410 411 412 413 414 415 416 417 418 419]\n",
      "  [420 421 422 423 424 425 426 427 428 429]\n",
      "  [430 431 432 433 434 435 436 437 438 439]\n",
      "  [440 441 442 443 444 445 446 447 448 449]\n",
      "  [450 451 452 453 454 455 456 457 458 459]\n",
      "  [460 461 462 463 464 465 466 467 468 469]\n",
      "  [470 471 472 473 474 475 476 477 478 479]\n",
      "  [480 481 482 483 484 485 486 487 488 489]\n",
      "  [490 491 492 493 494 495 496 497 498 499]]\n",
      "\n",
      " [[500 501 502 503 504 505 506 507 508 509]\n",
      "  [510 511 512 513 514 515 516 517 518 519]\n",
      "  [520 521 522 523 524 525 526 527 528 529]\n",
      "  [530 531 532 533 534 535 536 537 538 539]\n",
      "  [540 541 542 543 544 545 546 547 548 549]\n",
      "  [550 551 552 553 554 555 556 557 558 559]\n",
      "  [560 561 562 563 564 565 566 567 568 569]\n",
      "  [570 571 572 573 574 575 576 577 578 579]\n",
      "  [580 581 582 583 584 585 586 587 588 589]\n",
      "  [590 591 592 593 594 595 596 597 598 599]]\n",
      "\n",
      " [[600 601 602 603 604 605 606 607 608 609]\n",
      "  [610 611 612 613 614 615 616 617 618 619]\n",
      "  [620 621 622 623 624 625 626 627 628 629]\n",
      "  [630 631 632 633 634 635 636 637 638 639]\n",
      "  [640 641 642 643 644 645 646 647 648 649]\n",
      "  [650 651 652 653 654 655 656 657 658 659]\n",
      "  [660 661 662 663 664 665 666 667 668 669]\n",
      "  [670 671 672 673 674 675 676 677 678 679]\n",
      "  [680 681 682 683 684 685 686 687 688 689]\n",
      "  [690 691 692 693 694 695 696 697 698 699]]\n",
      "\n",
      " [[700 701 702 703 704 705 706 707 708 709]\n",
      "  [710 711 712 713 714 715 716 717 718 719]\n",
      "  [720 721 722 723 724 725 726 727 728 729]\n",
      "  [730 731 732 733 734 735 736 737 738 739]\n",
      "  [740 741 742 743 744 745 746 747 748 749]\n",
      "  [750 751 752 753 754 755 756 757 758 759]\n",
      "  [760 761 762 763 764 765 766 767 768 769]\n",
      "  [770 771 772 773 774 775 776 777 778 779]\n",
      "  [780 781 782 783 784 785 786 787 788 789]\n",
      "  [790 791 792 793 794 795 796 797 798 799]]\n",
      "\n",
      " [[800 801 802 803 804 805 806 807 808 809]\n",
      "  [810 811 812 813 814 815 816 817 818 819]\n",
      "  [820 821 822 823 824 825 826 827 828 829]\n",
      "  [830 831 832 833 834 835 836 837 838 839]\n",
      "  [840 841 842 843 844 845 846 847 848 849]\n",
      "  [850 851 852 853 854 855 856 857 858 859]\n",
      "  [860 861 862 863 864 865 866 867 868 869]\n",
      "  [870 871 872 873 874 875 876 877 878 879]\n",
      "  [880 881 882 883 884 885 886 887 888 889]\n",
      "  [890 891 892 893 894 895 896 897 898 899]]\n",
      "\n",
      " [[900 901 902 903 904 905 906 907 908 909]\n",
      "  [910 911 912 913 914 915 916 917 918 919]\n",
      "  [920 921 922 923 924 925 926 927 928 929]\n",
      "  [930 931 932 933 934 935 936 937 938 939]\n",
      "  [940 941 942 943 944 945 946 947 948 949]\n",
      "  [950 951 952 953 954 955 956 957 958 959]\n",
      "  [960 961 962 963 964 965 966 967 968 969]\n",
      "  [970 971 972 973 974 975 976 977 978 979]\n",
      "  [980 981 982 983 984 985 986 987 988 989]\n",
      "  [990 991 992 993 994 995 996 997 998 999]]]\n"
     ]
    }
   ],
   "source": [
    "arr1d=np.arange(1000)\n",
    "arr3d=arr1d.reshape((10,10,10))\n",
    "print(arr3d)"
   ]
  },
  {
   "cell_type": "code",
   "execution_count": 21,
   "id": "6834e047",
   "metadata": {},
   "outputs": [
    {
     "name": "stdout",
     "output_type": "stream",
     "text": [
      "[0. 0. 0. ... 0. 0. 0.]\n"
     ]
    }
   ],
   "source": [
    "arr4d=np.zeros((10,10,10,10))\n",
    "arr1d=np.ravel(arr4d)\n",
    "print(arr1d)"
   ]
  },
  {
   "cell_type": "code",
   "execution_count": 22,
   "id": "3c3be80b",
   "metadata": {},
   "outputs": [
    {
     "name": "stdout",
     "output_type": "stream",
     "text": [
      "[0. 0. 0. ... 0. 0. 0.]\n"
     ]
    }
   ],
   "source": [
    "arr4d=np.zeros((10,10,10,10))\n",
    "arr1d=arr4d.ravel()\n",
    "print(arr1d)"
   ]
  },
  {
   "cell_type": "code",
   "execution_count": 23,
   "id": "209d0f77",
   "metadata": {},
   "outputs": [
    {
     "data": {
      "text/plain": [
       "(10000,)"
      ]
     },
     "execution_count": 23,
     "metadata": {},
     "output_type": "execute_result"
    }
   ],
   "source": [
    "arr1d.shape"
   ]
  },
  {
   "cell_type": "code",
   "execution_count": 24,
   "id": "12d1a8d5",
   "metadata": {},
   "outputs": [
    {
     "name": "stdout",
     "output_type": "stream",
     "text": [
      "26.0\n"
     ]
    }
   ],
   "source": [
    "arr1d[0]=26\n",
    "print(arr4d[0][0][0][0])"
   ]
  },
  {
   "cell_type": "code",
   "execution_count": 25,
   "id": "ba0fcf0c",
   "metadata": {},
   "outputs": [
    {
     "name": "stdout",
     "output_type": "stream",
     "text": [
      "0.0\n"
     ]
    }
   ],
   "source": [
    "a=np.copy(arr1d)\n",
    "a[1]=10\n",
    "print(arr4d[0][0][0][1])"
   ]
  },
  {
   "cell_type": "code",
   "execution_count": 76,
   "id": "3b3441f4",
   "metadata": {},
   "outputs": [
    {
     "name": "stdout",
     "output_type": "stream",
     "text": [
      "2.0\n",
      "b'Hello'\n",
      "<class 'numpy.bytes_'>\n",
      "b'World'\n",
      "<class 'numpy.bytes_'>\n"
     ]
    }
   ],
   "source": [
    "recarr=np.zeros((3,),dtype=('i4,f4,a10'))\n",
    "toadd=[(1,2.,\"Hello\"),(3,4.,'World'),(5,6.,\"Nice\")]\n",
    "recarr[:]=toadd\n",
    "print(recarr[0][1])\n",
    "\n",
    "print(recarr[0][2])\n",
    "print(type(recarr[0][2]))\n",
    "\n",
    "print(recarr[1][2])\n",
    "print(type(recarr[1][2]))\n"
   ]
  },
  {
   "cell_type": "code",
   "execution_count": 36,
   "id": "fa1673f1",
   "metadata": {},
   "outputs": [
    {
     "data": {
      "text/plain": [
       "str"
      ]
     },
     "execution_count": 36,
     "metadata": {},
     "output_type": "execute_result"
    }
   ],
   "source": [
    "type(recarr[0][2].decode('UTF-8'))"
   ]
  },
  {
   "cell_type": "code",
   "execution_count": 129,
   "id": "b9d3d199",
   "metadata": {},
   "outputs": [
    {
     "name": "stdout",
     "output_type": "stream",
     "text": [
      "[(1, 0.0, 'Hello'), (2, 1.0, 'World')]\n"
     ]
    }
   ],
   "source": [
    "recarr=np.zeros((2,),dtype=('i4,f4,a10'))\n",
    "\n",
    "col1=np.arange(2)+1\n",
    "col2=np.arange(2,dtype=np.float32)\n",
    "col3=['Hello','World']\n",
    "\n",
    "toadd=zip(col1,col2,col3)\n",
    "#print(list(toadd))\n",
    "store=list(toadd)\n",
    "print(store)\n",
    "\n",
    "#print(type(toadd))\n",
    "#recarr[:]=toadd\n",
    "\n",
    "#print(recarr)"
   ]
  },
  {
   "cell_type": "code",
   "execution_count": 79,
   "id": "52b0444b",
   "metadata": {},
   "outputs": [
    {
     "name": "stdout",
     "output_type": "stream",
     "text": [
      "('Integers', 'Float', 'string my wish i can write anything here')\n"
     ]
    }
   ],
   "source": [
    "print(recarr.dtype.names)"
   ]
  },
  {
   "cell_type": "code",
   "execution_count": 78,
   "id": "2d65371b",
   "metadata": {},
   "outputs": [],
   "source": [
    "recarr.dtype.names=(\"Integers\",\"Float\",\"string my wish i can write anything here\")"
   ]
  },
  {
   "cell_type": "code",
   "execution_count": 80,
   "id": "02cb91c4",
   "metadata": {},
   "outputs": [
    {
     "data": {
      "text/plain": [
       "array([1, 3, 5])"
      ]
     },
     "execution_count": 80,
     "metadata": {},
     "output_type": "execute_result"
    }
   ],
   "source": [
    "recarr['Integers']"
   ]
  },
  {
   "cell_type": "code",
   "execution_count": 70,
   "id": "5be03df0",
   "metadata": {},
   "outputs": [
    {
     "name": "stdout",
     "output_type": "stream",
     "text": [
      "[(1, 2., b'Hello') (3, 4., b'World')]\n"
     ]
    }
   ],
   "source": [
    "print(recarr)"
   ]
  },
  {
   "cell_type": "code",
   "execution_count": 86,
   "id": "7ceda762",
   "metadata": {},
   "outputs": [
    {
     "name": "stdout",
     "output_type": "stream",
     "text": [
      "[[1 2]\n",
      " [3 4]]\n"
     ]
    }
   ],
   "source": [
    "alist=[[1,2],[3,4]]\n",
    "arr=np.array(alist)\n",
    "print(arr)"
   ]
  },
  {
   "cell_type": "code",
   "execution_count": 87,
   "id": "719853b8",
   "metadata": {},
   "outputs": [
    {
     "data": {
      "text/plain": [
       "2"
      ]
     },
     "execution_count": 87,
     "metadata": {},
     "output_type": "execute_result"
    }
   ],
   "source": [
    "arr[0,1]"
   ]
  },
  {
   "cell_type": "code",
   "execution_count": 88,
   "id": "44170eb0",
   "metadata": {},
   "outputs": [
    {
     "data": {
      "text/plain": [
       "array([2, 4])"
      ]
     },
     "execution_count": 88,
     "metadata": {},
     "output_type": "execute_result"
    }
   ],
   "source": [
    "arr[:,1]"
   ]
  },
  {
   "cell_type": "code",
   "execution_count": 90,
   "id": "59e2098f",
   "metadata": {},
   "outputs": [
    {
     "ename": "ValueError",
     "evalue": "either both or neither of x and y should be given",
     "output_type": "error",
     "traceback": [
      "\u001b[1;31m---------------------------------------------------------------------------\u001b[0m",
      "\u001b[1;31mValueError\u001b[0m                                Traceback (most recent call last)",
      "Input \u001b[1;32mIn [90]\u001b[0m, in \u001b[0;36m<cell line: 1>\u001b[1;34m()\u001b[0m\n\u001b[1;32m----> 1\u001b[0m \u001b[43mnp\u001b[49m\u001b[38;5;241;43m.\u001b[39;49m\u001b[43mwhere\u001b[49m\u001b[43m(\u001b[49m\u001b[43marr\u001b[49m\u001b[43m,\u001b[49m\u001b[38;5;241;43m3\u001b[39;49m\u001b[43m)\u001b[49m\n",
      "File \u001b[1;32m<__array_function__ internals>:5\u001b[0m, in \u001b[0;36mwhere\u001b[1;34m(*args, **kwargs)\u001b[0m\n",
      "\u001b[1;31mValueError\u001b[0m: either both or neither of x and y should be given"
     ]
    }
   ],
   "source": [
    "np.where(arr,3)"
   ]
  },
  {
   "cell_type": "code",
   "execution_count": 91,
   "id": "b1d00c31",
   "metadata": {},
   "outputs": [
    {
     "name": "stdout",
     "output_type": "stream",
     "text": [
      "[[1 2 3]\n",
      " [4 5 6]]\n",
      "Indices of elements <4\n",
      "(array([0, 0, 0], dtype=int64), array([0, 1, 2], dtype=int64))\n",
      "Elements which are <4\n",
      "[1 2 3]\n"
     ]
    }
   ],
   "source": [
    "a = np.array([[1, 2, 3], [4, 5, 6]])\n",
    "  \n",
    "print(a)\n",
    "  \n",
    "print ('Indices of elements <4')\n",
    "  \n",
    "b = np.where(a<4)\n",
    "print(b)\n",
    "  \n",
    "print(\"Elements which are <4\")\n",
    "print(a[b])"
   ]
  },
  {
   "cell_type": "code",
   "execution_count": 93,
   "id": "93dc0e5b",
   "metadata": {},
   "outputs": [
    {
     "name": "stdout",
     "output_type": "stream",
     "text": [
      "[1, 2, 3]\n",
      "[1 3]\n"
     ]
    }
   ],
   "source": [
    "array=[1,2,3]\n",
    "new_arr=np.delete(array,1)\n",
    "print(array)\n",
    "print(new_arr)"
   ]
  },
  {
   "cell_type": "code",
   "execution_count": 97,
   "id": "f4fc0e79",
   "metadata": {},
   "outputs": [
    {
     "name": "stdout",
     "output_type": "stream",
     "text": [
      "[False  True  True]\n",
      "[2 3]\n"
     ]
    }
   ],
   "source": [
    "array=np.array(array)\n",
    "lol=array>1\n",
    "print(lol)\n",
    "\n",
    "new_arr=array[lol]\n",
    "print(new_arr)"
   ]
  },
  {
   "cell_type": "code",
   "execution_count": 112,
   "id": "e37d9b0d",
   "metadata": {},
   "outputs": [
    {
     "data": {
      "image/png": "[encoded data removed]",
      "text/plain": [
       "<Figure size 432x288 with 1 Axes>"
      ]
     },
     "metadata": {
      "needs_background": "light"
     },
     "output_type": "display_data"
    }
   ],
   "source": [
    "img1=np.zeros((20,20))+3\n",
    "img1[4:-4,4:-4]=6\n",
    "img1[7:-7,7:-7]=9\n",
    "\n",
    "show_man=matplotlib.pyplot.imshow(img1)\n",
    "plt.show()"
   ]
  },
  {
   "cell_type": "code",
   "execution_count": 113,
   "id": "c3a5abad",
   "metadata": {},
   "outputs": [],
   "source": [
    "index1=img1>2\n",
    "index2=img1<6\n",
    "compound_index=index1 & index2"
   ]
  },
  {
   "cell_type": "code",
   "execution_count": 114,
   "id": "177ada52",
   "metadata": {},
   "outputs": [
    {
     "data": {
      "image/png": "[encoded data removed]",
      "text/plain": [
       "<Figure size 432x288 with 1 Axes>"
      ]
     },
     "metadata": {
      "needs_background": "light"
     },
     "output_type": "display_data"
    }
   ],
   "source": [
    "compound_index=(img1>3)&(img1<7)\n",
    "img2=np.copy(img1)\n",
    "img2[compound_index]=0\n",
    "show_man=matplotlib.pyplot.imshow(img2)\n",
    "plt.show()"
   ]
  },
  {
   "cell_type": "code",
   "execution_count": 115,
   "id": "0b84a08c",
   "metadata": {},
   "outputs": [
    {
     "data": {
      "image/png": "[encoded data removed]",
      "text/plain": [
       "<Figure size 432x288 with 1 Axes>"
      ]
     },
     "metadata": {
      "needs_background": "light"
     },
     "output_type": "display_data"
    }
   ],
   "source": [
    "index3=img1==9\n",
    "index4=(index1 & index2) | index3\n",
    "img3=np.copy(img1)\n",
    "img3[index4]=0\n",
    "show_man=matplotlib.pyplot.imshow(img2)\n",
    "plt.show()"
   ]
  },
  {
   "cell_type": "code",
   "execution_count": 116,
   "id": "b4f40f81",
   "metadata": {},
   "outputs": [],
   "source": [
    "import numpy.random as rand"
   ]
  },
  {
   "cell_type": "code",
   "execution_count": 119,
   "id": "fd0a6c16",
   "metadata": {},
   "outputs": [
    {
     "name": "stdout",
     "output_type": "stream",
     "text": [
      "[-0.31777664  1.65691767 -2.11173783 -2.04217034  0.7438327   0.89748637\n",
      " -1.0753619  -0.57752882 -1.44020169 -1.32110486  0.33651535 -0.89743568\n",
      " -0.6979688  -0.32535423 -0.04598522 -0.7368551  -2.13465261  1.88564176\n",
      " -0.09402343  0.88716973  0.5538285   0.63749288  0.69559516 -0.31273579\n",
      " -0.82146308  1.15414345  0.3212011   1.59941259 -0.97395956 -1.25684892\n",
      " -0.83677532  0.26435016  0.786162   -0.10952408 -1.74535133  2.95593429\n",
      " -0.15664662 -1.16824941  0.95732649 -0.21918375  0.11359967  0.83991539\n",
      " -1.22323679  1.61084867 -0.24456297 -0.94528068 -0.16498026  1.93191177\n",
      "  0.60191601  0.82631223 -0.91749705 -0.02064582 -0.42634194  1.59392602\n",
      "  0.2850504  -0.86775182 -0.45315814 -0.05410059  0.52399659  0.68064055\n",
      " -1.35440148 -0.1548004  -0.54148488 -1.28345984  1.56553006  0.15681031\n",
      " -1.52175718  0.45223204 -0.88938228 -1.43097057 -1.45469663  0.95195751\n",
      "  0.85410471  0.25469787 -1.28536843  1.16877303 -1.16508133 -0.13566054\n",
      " -2.40250702  2.3104897  -0.02783926  0.06514444 -0.26270406 -0.33236104\n",
      " -1.06674381 -0.36495529  0.08988175 -0.14947983 -1.28704993 -0.45818863\n",
      " -0.53731541  1.28895968  0.92913796 -2.20369894 -0.74171228  1.06402226\n",
      " -0.95256207 -0.64668954 -0.2941695  -0.91144164]\n"
     ]
    }
   ],
   "source": [
    "a=rand.randn(100)\n",
    "print(a)"
   ]
  },
  {
   "cell_type": "code",
   "execution_count": 120,
   "id": "9940a0bb",
   "metadata": {},
   "outputs": [
    {
     "name": "stdout",
     "output_type": "stream",
     "text": [
      "[-0.3177766441656414, 1.6569176731638204, -2.111737826694014, -2.0421703398649558, 0.7438327002122889, 0.8974863728155174, -1.0753618982369004, -0.577528822600192, -1.4402016886592761, -1.3211048637661074, 0.3365153525845678, -0.8974356805478657, -0.6979687967078844, -0.32535422682567566, -0.04598522176426605, -0.7368551049130024, -2.13465261430464, 1.8856417565825814, -0.09402342564375923, 0.8871697259896962, 0.5538284989877974, 0.6374928837946515, 0.6955951563336502, -0.3127357912608935, -0.8214630820238538, 1.1541434544199765, 0.32120109817786074, 1.599412588788635, -0.9739595613582669, -1.2568489212744454, -0.8367753170041555, 0.26435015732452716, 0.7861620036610062, -0.10952408371993722, -1.745351331721761, 2.9559342922712575, -0.15664662177406727, -1.1682494059076334, 0.9573264915894133, -0.2191837497532426, 0.1135996695156108, 0.8399153948524488, -1.2232367929715393, 1.6108486720717616, -0.24456297414665518, -0.9452806804158012, -0.16498026453655934, 1.9319117714900131, 0.6019160105762772, 0.8263122286771193, -0.9174970494303194, -0.02064581823449834, -0.4263419432330772, 1.593926020537853, 0.28505040060755144, -0.8677518204435064, -0.4531581410661226, -0.05410058516614291, 0.523996589371289, 0.680640553703719, -1.3544014766618775, -0.15480039605911752, -0.5414848790148259, -1.2834598407894469, 1.5655300569381225, 0.1568103104104838, -1.5217571825940672, 0.4522320437863216, -0.8893822841173605, -1.4309705675631552, -1.4546966288404497, 0.9519575122980413, 0.8541047106995082, 0.25469786883423173, -1.2853684261147633, 1.1687730278928676, -1.165081325014482, -0.13566053837167358, -2.4025070190181435, 2.310489704095487, -0.027839257065204584, 0.06514444129354745, -0.26270405520716816, -0.33236103747857687, -1.0667438116837469, -0.36495529348339195, 0.08988175440195985, -0.1494798300227392, -1.2870499302077536, -0.45818863199775023, -0.5373154072596374, 1.2889596790075404, 0.9291379606059337, -2.203698936477754, -0.7417122758034131, 1.064022258598479, -0.952562066359543, -0.6466895435284012, -0.29416950308923295, -0.9114416385070011]\n"
     ]
    }
   ],
   "source": [
    "#Performing some operation on desired elements\n",
    "\n",
    "index=a>0.2\n",
    "b=a[index]\n",
    "b=b**2-2\n",
    "a[index]=b"
   ]
  },
  {
   "cell_type": "code",
   "execution_count": 132,
   "id": "ca81e741",
   "metadata": {},
   "outputs": [],
   "source": [
    "f=open(\"C:/Users/mpree/Desktop/Fluent Python.txt\",\"r\")"
   ]
  },
  {
   "cell_type": "code",
   "execution_count": 134,
   "id": "4e2c14f1",
   "metadata": {},
   "outputs": [],
   "source": [
    "a=f.readlines()"
   ]
  },
  {
   "cell_type": "code",
   "execution_count": 136,
   "id": "2f06303d",
   "metadata": {},
   "outputs": [
    {
     "name": "stdout",
     "output_type": "stream",
     "text": [
      "The Python Data Model - 15 pages\n",
      "\n",
      "An Array of Sequences - 50 pages\n",
      "\n",
      "Dictionaries and Sets - 36 pages\n",
      "\n",
      "Unicode Text Versus Bytes - 46 pages\n",
      "\n",
      "Data Class Builders - 33 pages\n",
      "\n",
      "Object References, Mutability and Recycling - 23 pages\n",
      "\n",
      "\n",
      "\n",
      "Functions as First-Class Objects - 19 pages\n",
      "\n",
      "Type Hints in Functions - 45 pages\n",
      "\n",
      "Decorators and Closures - 33 pages\n",
      "\n",
      "Design Patterns with First-Class Functions - 17 pages\n",
      "\n",
      "\n",
      "\n",
      "A Pythonic Object - 29 pages\n",
      "\n",
      "Special Methods for Sequences - 29 pages\n",
      "\n",
      "Interfaces, Protocols and ABCs - 51 pages\n",
      "\n",
      "Inheritance: For Better or for Worse - 28 pages\n",
      "\n",
      "More about Type Hints - 36 pages\n",
      "\n",
      "Operator Overloading - 26 pages\n",
      "\n",
      "\n",
      "\n",
      "Iterators, Generators and Classical Coroutines - 59 pages\n",
      "\n",
      "with, match and else Blocks - 33 pages\n",
      "\n",
      "Concurrency Models in Python - 43 pages\n",
      "\n",
      "Concurrent Executors - 29 pages\n",
      "\n",
      "Asynchronous Programming  - 53 pages\n",
      "\n",
      "  \n",
      "\n",
      "Dynamic Attributes and Properties - 38 pages\n",
      "\n",
      "Attributes Descriptors - 25 pages\n",
      "\n",
      "Class MetaProgramming - 46 pages\n",
      "\n",
      "                                \n",
      "\n",
      "\n",
      "\n",
      "                               \n",
      "\n",
      "Day 1:- 17/10/2022 >>>------------------------------------------>  \n"
     ]
    }
   ],
   "source": [
    "for i in a:\n",
    "    print(i)"
   ]
  },
  {
   "cell_type": "code",
   "execution_count": 140,
   "id": "a70c29b1",
   "metadata": {},
   "outputs": [],
   "source": [
    "f.close()"
   ]
  },
  {
   "cell_type": "code",
   "execution_count": 155,
   "id": "8e91426b",
   "metadata": {},
   "outputs": [],
   "source": [
    "f=open(\"C:/Users/mpree/Desktop/try.txt\",\"w\")\n",
    "f.writelines(\"PREETHAM\")\n",
    "f.close()"
   ]
  },
  {
   "cell_type": "code",
   "execution_count": 160,
   "id": "e4d691c4",
   "metadata": {},
   "outputs": [
    {
     "ename": "ValueError",
     "evalue": "could not convert string to float: 'PREETHAM'",
     "output_type": "error",
     "traceback": [
      "\u001b[1;31m---------------------------------------------------------------------------\u001b[0m",
      "\u001b[1;31mValueError\u001b[0m                                Traceback (most recent call last)",
      "Input \u001b[1;32mIn [160]\u001b[0m, in \u001b[0;36m<cell line: 1>\u001b[1;34m()\u001b[0m\n\u001b[1;32m----> 1\u001b[0m arr\u001b[38;5;241m=\u001b[39m\u001b[43mnp\u001b[49m\u001b[38;5;241;43m.\u001b[39;49m\u001b[43mloadtxt\u001b[49m\u001b[43m(\u001b[49m\u001b[38;5;124;43m\"\u001b[39;49m\u001b[38;5;124;43mC:/Users/mpree/Desktop/try.txt\u001b[39;49m\u001b[38;5;124;43m\"\u001b[39;49m\u001b[43m)\u001b[49m\n\u001b[0;32m      2\u001b[0m \u001b[38;5;28mprint\u001b[39m(arr)\n",
      "File \u001b[1;32m~\\anaconda3\\lib\\site-packages\\numpy\\lib\\npyio.py:1148\u001b[0m, in \u001b[0;36mloadtxt\u001b[1;34m(fname, dtype, comments, delimiter, converters, skiprows, usecols, unpack, ndmin, encoding, max_rows, like)\u001b[0m\n\u001b[0;32m   1143\u001b[0m \u001b[38;5;66;03m# read data in chunks and fill it into an array via resize\u001b[39;00m\n\u001b[0;32m   1144\u001b[0m \u001b[38;5;66;03m# over-allocating and shrinking the array later may be faster but is\u001b[39;00m\n\u001b[0;32m   1145\u001b[0m \u001b[38;5;66;03m# probably not relevant compared to the cost of actually reading and\u001b[39;00m\n\u001b[0;32m   1146\u001b[0m \u001b[38;5;66;03m# converting the data\u001b[39;00m\n\u001b[0;32m   1147\u001b[0m X \u001b[38;5;241m=\u001b[39m \u001b[38;5;28;01mNone\u001b[39;00m\n\u001b[1;32m-> 1148\u001b[0m \u001b[38;5;28;01mfor\u001b[39;00m x \u001b[38;5;129;01min\u001b[39;00m read_data(_loadtxt_chunksize):\n\u001b[0;32m   1149\u001b[0m     \u001b[38;5;28;01mif\u001b[39;00m X \u001b[38;5;129;01mis\u001b[39;00m \u001b[38;5;28;01mNone\u001b[39;00m:\n\u001b[0;32m   1150\u001b[0m         X \u001b[38;5;241m=\u001b[39m np\u001b[38;5;241m.\u001b[39marray(x, dtype)\n",
      "File \u001b[1;32m~\\anaconda3\\lib\\site-packages\\numpy\\lib\\npyio.py:999\u001b[0m, in \u001b[0;36mloadtxt.<locals>.read_data\u001b[1;34m(chunk_size)\u001b[0m\n\u001b[0;32m    995\u001b[0m     \u001b[38;5;28;01mraise\u001b[39;00m \u001b[38;5;167;01mValueError\u001b[39;00m(\u001b[38;5;124m\"\u001b[39m\u001b[38;5;124mWrong number of columns at line \u001b[39m\u001b[38;5;132;01m%d\u001b[39;00m\u001b[38;5;124m\"\u001b[39m\n\u001b[0;32m    996\u001b[0m                      \u001b[38;5;241m%\u001b[39m line_num)\n\u001b[0;32m    998\u001b[0m \u001b[38;5;66;03m# Convert each value according to its column and store\u001b[39;00m\n\u001b[1;32m--> 999\u001b[0m items \u001b[38;5;241m=\u001b[39m [conv(val) \u001b[38;5;28;01mfor\u001b[39;00m (conv, val) \u001b[38;5;129;01min\u001b[39;00m \u001b[38;5;28mzip\u001b[39m(converters, vals)]\n\u001b[0;32m   1001\u001b[0m \u001b[38;5;66;03m# Then pack it according to the dtype's nesting\u001b[39;00m\n\u001b[0;32m   1002\u001b[0m items \u001b[38;5;241m=\u001b[39m pack_items(items, packing)\n",
      "File \u001b[1;32m~\\anaconda3\\lib\\site-packages\\numpy\\lib\\npyio.py:999\u001b[0m, in \u001b[0;36m<listcomp>\u001b[1;34m(.0)\u001b[0m\n\u001b[0;32m    995\u001b[0m     \u001b[38;5;28;01mraise\u001b[39;00m \u001b[38;5;167;01mValueError\u001b[39;00m(\u001b[38;5;124m\"\u001b[39m\u001b[38;5;124mWrong number of columns at line \u001b[39m\u001b[38;5;132;01m%d\u001b[39;00m\u001b[38;5;124m\"\u001b[39m\n\u001b[0;32m    996\u001b[0m                      \u001b[38;5;241m%\u001b[39m line_num)\n\u001b[0;32m    998\u001b[0m \u001b[38;5;66;03m# Convert each value according to its column and store\u001b[39;00m\n\u001b[1;32m--> 999\u001b[0m items \u001b[38;5;241m=\u001b[39m [\u001b[43mconv\u001b[49m\u001b[43m(\u001b[49m\u001b[43mval\u001b[49m\u001b[43m)\u001b[49m \u001b[38;5;28;01mfor\u001b[39;00m (conv, val) \u001b[38;5;129;01min\u001b[39;00m \u001b[38;5;28mzip\u001b[39m(converters, vals)]\n\u001b[0;32m   1001\u001b[0m \u001b[38;5;66;03m# Then pack it according to the dtype's nesting\u001b[39;00m\n\u001b[0;32m   1002\u001b[0m items \u001b[38;5;241m=\u001b[39m pack_items(items, packing)\n",
      "File \u001b[1;32m~\\anaconda3\\lib\\site-packages\\numpy\\lib\\npyio.py:736\u001b[0m, in \u001b[0;36m_getconv.<locals>.floatconv\u001b[1;34m(x)\u001b[0m\n\u001b[0;32m    734\u001b[0m \u001b[38;5;28;01mif\u001b[39;00m \u001b[38;5;124m'\u001b[39m\u001b[38;5;124m0x\u001b[39m\u001b[38;5;124m'\u001b[39m \u001b[38;5;129;01min\u001b[39;00m x:\n\u001b[0;32m    735\u001b[0m     \u001b[38;5;28;01mreturn\u001b[39;00m \u001b[38;5;28mfloat\u001b[39m\u001b[38;5;241m.\u001b[39mfromhex(x)\n\u001b[1;32m--> 736\u001b[0m \u001b[38;5;28;01mreturn\u001b[39;00m \u001b[38;5;28;43mfloat\u001b[39;49m\u001b[43m(\u001b[49m\u001b[43mx\u001b[49m\u001b[43m)\u001b[49m\n",
      "\u001b[1;31mValueError\u001b[0m: could not convert string to float: 'PREETHAM'"
     ]
    }
   ],
   "source": [
    "arr=np.loadtxt(\"C:/Users/mpree/Desktop/try.txt\")\n",
    "print(arr)"
   ]
  },
  {
   "cell_type": "code",
   "execution_count": 161,
   "id": "9fde60cf",
   "metadata": {},
   "outputs": [
    {
     "ename": "SyntaxError",
     "evalue": "invalid syntax (1617192651.py, line 1)",
     "output_type": "error",
     "traceback": [
      "\u001b[1;36m  Input \u001b[1;32mIn [161]\u001b[1;36m\u001b[0m\n\u001b[1;33m    table=np.loadtxt('example.txt',dtype='names':('ID','Result','Type'),'formats':('S4','f4','i2'))\u001b[0m\n\u001b[1;37m                                                ^\u001b[0m\n\u001b[1;31mSyntaxError\u001b[0m\u001b[1;31m:\u001b[0m invalid syntax\n"
     ]
    }
   ],
   "source": [
    "table=np.loadtxt('example.txt',dtype='names':('ID','Result','Type'),'formats':('S4','f4','i2'))\n",
    "print(table['Result'])\n",
    "#dtpye=[('ID','|S4'),('Result','<f4'),('Type','<i2')]\n",
    "#what does the above statement do? CHECK IT OUT"
   ]
  },
  {
   "cell_type": "code",
   "execution_count": 172,
   "id": "bac6812d",
   "metadata": {},
   "outputs": [],
   "source": [
    "data=np.empty((1000,1000))\n",
    "np.save('test.npy',data)\n",
    "\n",
    "#to save space, it has a function to compress and store --> numpy.savez\n",
    "np.savez('test.npy',data)"
   ]
  },
  {
   "cell_type": "code",
   "execution_count": 180,
   "id": "35b3b86d",
   "metadata": {},
   "outputs": [
    {
     "name": "stdout",
     "output_type": "stream",
     "text": [
      "[[ 6.00479950e+15 -1.80143985e+16  0.00000000e+00]\n",
      " [-1.20095990e+16  3.60287970e+16 -1.00000000e+00]\n",
      " [ 6.00479950e+15 -1.80143985e+16  1.00000000e+00]]\n"
     ]
    }
   ],
   "source": [
    "A=np.matrix([[3,3,3],\n",
    "             [1,1,1],\n",
    "             [1,2,3]])\n",
    "\n",
    "print(A**(-1))\n",
    "print()"
   ]
  },
  {
   "cell_type": "code",
   "execution_count": 182,
   "id": "2560487e",
   "metadata": {},
   "outputs": [
    {
     "name": "stdout",
     "output_type": "stream",
     "text": [
      "[[1.75]\n",
      " [1.75]\n",
      " [0.75]]\n"
     ]
    }
   ],
   "source": [
    "A=np.matrix([[3,6,-5],\n",
    "             [1,-3,2],\n",
    "             [5,-1,4]])\n",
    "B=np.matrix([[12],\n",
    "             [-2],\n",
    "             [10]])\n",
    "X=A**(-1)*B\n",
    "print(X)"
   ]
  },
  {
   "cell_type": "code",
   "execution_count": 185,
   "id": "369357aa",
   "metadata": {},
   "outputs": [
    {
     "name": "stdout",
     "output_type": "stream",
     "text": [
      "[[1.75]\n",
      " [1.75]\n",
      " [0.75]]\n"
     ]
    }
   ],
   "source": [
    "a=np.array([[3,6,-5],\n",
    "             [1,-3,2],\n",
    "             [5,-1,4]])\n",
    "b=np.array([[12],\n",
    "             [-2],\n",
    "             [10]])\n",
    "x=np.linalg.inv(a).dot(b)\n",
    "print(x)"
   ]
  },
  {
   "cell_type": "code",
   "execution_count": 191,
   "id": "2bba6c3a",
   "metadata": {},
   "outputs": [
    {
     "name": "stdout",
     "output_type": "stream",
     "text": [
      "[1.0188255  1.92749823]\n"
     ]
    }
   ],
   "source": [
    "from scipy.optimize import curve_fit\n",
    "\n",
    "def func(x,a,b):\n",
    "    return a*x+b\n",
    "\n",
    "x=np.linspace(0,10,100)\n",
    "y=func(x,1,2)\n",
    "\n",
    "yn=y+0.9*np.random.normal(size=len(x))\n",
    "\n",
    "popt,pcov=curve_fit(func, x, yn)\n",
    "\n",
    "print(popt)"
   ]
  },
  {
   "cell_type": "code",
   "execution_count": 188,
   "id": "b550fa77",
   "metadata": {},
   "outputs": [
    {
     "data": {
      "text/plain": [
       "array([-0.05240637, -0.51743624, -0.31561286, -1.16313422,  0.10257771,\n",
       "       -0.66574506,  1.11983715,  1.02824483,  0.27587744,  1.0668768 ])"
      ]
     },
     "execution_count": 188,
     "metadata": {},
     "output_type": "execute_result"
    }
   ],
   "source": [
    "np.random.normal(size=10)"
   ]
  },
  {
   "cell_type": "code",
   "execution_count": 189,
   "id": "ae4fb42d",
   "metadata": {},
   "outputs": [
    {
     "data": {
      "text/plain": [
       "array([ 2.60320831,  2.43418129,  1.502472  ,  2.07979619,  1.96420839,\n",
       "        2.45310103,  2.90557189,  1.34090009,  5.31792357,  2.02528216,\n",
       "        2.6662622 ,  4.39743312,  2.92415355,  3.21998024,  4.37566582,\n",
       "        3.4566095 ,  2.84584668,  4.51039567,  3.22303583,  2.35275236,\n",
       "        4.03027998,  4.35468223,  5.68321903,  5.10105296,  3.42130211,\n",
       "        5.51355916,  6.80834145,  3.96774176,  4.72101216,  4.82908597,\n",
       "        5.28704425,  5.00806971,  4.33496129,  4.33680717,  6.23322641,\n",
       "        5.82556101,  5.81795293,  5.95561052,  6.41267542,  5.41347635,\n",
       "        6.39646015,  7.17875379,  5.47735847,  6.07927614,  5.59146977,\n",
       "        4.81635118,  7.0469449 ,  7.86799636,  5.82551279,  6.25246993,\n",
       "        7.27053481,  7.91453753,  6.58422338,  8.31987101,  5.51783109,\n",
       "        6.0701519 ,  7.6649062 ,  8.51716225,  7.10219053,  9.26383795,\n",
       "        8.18395738,  7.09944926,  8.69555636,  8.31459352,  8.50348339,\n",
       "        9.7669907 ,  8.7381354 ,  8.3082252 ,  8.80723282,  8.96934284,\n",
       "       10.07953936, 10.22863065,  8.13635221,  9.81623172,  7.66969172,\n",
       "       10.21185795,  8.82664521, 10.28092127, 11.00073144, 10.80980073,\n",
       "        9.70681124,  9.98298703, 10.60938463, 11.67389593, 10.09840541,\n",
       "        9.34518763, 11.00935207,  9.35150988, 10.57183503, 11.32904609,\n",
       "       10.76707192, 10.13014382, 12.06483811, 12.14132227,  9.29587704,\n",
       "       13.80274691, 11.87247017, 10.7997636 , 12.08735598, 11.82134877])"
      ]
     },
     "execution_count": 189,
     "metadata": {},
     "output_type": "execute_result"
    }
   ],
   "source": [
    "yn"
   ]
  },
  {
   "cell_type": "code",
   "execution_count": 190,
   "id": "4c17baa2",
   "metadata": {},
   "outputs": [
    {
     "data": {
      "text/plain": [
       "array([ 2.        ,  2.1010101 ,  2.2020202 ,  2.3030303 ,  2.4040404 ,\n",
       "        2.50505051,  2.60606061,  2.70707071,  2.80808081,  2.90909091,\n",
       "        3.01010101,  3.11111111,  3.21212121,  3.31313131,  3.41414141,\n",
       "        3.51515152,  3.61616162,  3.71717172,  3.81818182,  3.91919192,\n",
       "        4.02020202,  4.12121212,  4.22222222,  4.32323232,  4.42424242,\n",
       "        4.52525253,  4.62626263,  4.72727273,  4.82828283,  4.92929293,\n",
       "        5.03030303,  5.13131313,  5.23232323,  5.33333333,  5.43434343,\n",
       "        5.53535354,  5.63636364,  5.73737374,  5.83838384,  5.93939394,\n",
       "        6.04040404,  6.14141414,  6.24242424,  6.34343434,  6.44444444,\n",
       "        6.54545455,  6.64646465,  6.74747475,  6.84848485,  6.94949495,\n",
       "        7.05050505,  7.15151515,  7.25252525,  7.35353535,  7.45454545,\n",
       "        7.55555556,  7.65656566,  7.75757576,  7.85858586,  7.95959596,\n",
       "        8.06060606,  8.16161616,  8.26262626,  8.36363636,  8.46464646,\n",
       "        8.56565657,  8.66666667,  8.76767677,  8.86868687,  8.96969697,\n",
       "        9.07070707,  9.17171717,  9.27272727,  9.37373737,  9.47474747,\n",
       "        9.57575758,  9.67676768,  9.77777778,  9.87878788,  9.97979798,\n",
       "       10.08080808, 10.18181818, 10.28282828, 10.38383838, 10.48484848,\n",
       "       10.58585859, 10.68686869, 10.78787879, 10.88888889, 10.98989899,\n",
       "       11.09090909, 11.19191919, 11.29292929, 11.39393939, 11.49494949,\n",
       "       11.5959596 , 11.6969697 , 11.7979798 , 11.8989899 , 12.        ])"
      ]
     },
     "execution_count": 190,
     "metadata": {},
     "output_type": "execute_result"
    }
   ],
   "source": [
    "y"
   ]
  },
  {
   "cell_type": "code",
   "execution_count": 10,
   "id": "f6f2dc87",
   "metadata": {},
   "outputs": [
    {
     "ename": "NameError",
     "evalue": "name 'y' is not defined",
     "output_type": "error",
     "traceback": [
      "\u001b[1;31m---------------------------------------------------------------------------\u001b[0m",
      "\u001b[1;31mNameError\u001b[0m                                 Traceback (most recent call last)",
      "Input \u001b[1;32mIn [10]\u001b[0m, in \u001b[0;36m<cell line: 2>\u001b[1;34m()\u001b[0m\n\u001b[0;32m      1\u001b[0m \u001b[38;5;28;01mimport\u001b[39;00m \u001b[38;5;21;01mmatplotlib\u001b[39;00m\u001b[38;5;21;01m.\u001b[39;00m\u001b[38;5;21;01mpyplot\u001b[39;00m \u001b[38;5;28;01mas\u001b[39;00m \u001b[38;5;21;01mplt\u001b[39;00m\n\u001b[1;32m----> 2\u001b[0m plt\u001b[38;5;241m.\u001b[39mplot(x, \u001b[43my\u001b[49m)\n\u001b[0;32m      3\u001b[0m plt\u001b[38;5;241m.\u001b[39mshow()\n",
      "\u001b[1;31mNameError\u001b[0m: name 'y' is not defined"
     ]
    }
   ],
   "source": [
    "import matplotlib.pyplot as plt\n",
    "plt.plot(x, y)\n",
    "plt.show()"
   ]
  },
  {
   "cell_type": "code",
   "execution_count": 194,
   "id": "45c558f1",
   "metadata": {},
   "outputs": [
    {
     "data": {
      "image/png": "[encoded data removed]",
      "text/plain": [
       "<Figure size 432x288 with 1 Axes>"
      ]
     },
     "metadata": {
      "needs_background": "light"
     },
     "output_type": "display_data"
    }
   ],
   "source": [
    "plt.plot(x, yn)\n",
    "plt.show()"
   ]
  },
  {
   "cell_type": "code",
   "execution_count": 201,
   "id": "be662def",
   "metadata": {},
   "outputs": [
    {
     "data": {
      "image/png": "[encoded data removed]",
      "text/plain": [
       "<Figure size 432x288 with 1 Axes>"
      ]
     },
     "metadata": {
      "needs_background": "light"
     },
     "output_type": "display_data"
    }
   ],
   "source": [
    "new_x=x\n",
    "new_y=func(new_x,popt[0],popt[1])\n",
    "plt.plot(new_x, new_y)\n",
    "plt.plot(x,y)\n",
    "plt.show()"
   ]
  },
  {
   "cell_type": "code",
   "execution_count": 204,
   "id": "3ef5fd34",
   "metadata": {},
   "outputs": [
    {
     "name": "stdout",
     "output_type": "stream",
     "text": [
      "[ 0.97313311  5.01052862 -1.96572617]\n"
     ]
    }
   ],
   "source": [
    "#function to model and create data using GAUSSIAN DISTRIBUTION\n",
    "def func(x,a,b,c):\n",
    "    return a*np.exp(-(x-b)**2/(2*c**2))\n",
    "\n",
    "x=np.linspace(0,10,100)\n",
    "y=func(x,1,5,2)\n",
    "\n",
    "yn=y+0.2*np.random.normal(size=len(x))\n",
    "\n",
    "popt,pcov=curve_fit(func,x,yn)\n",
    "\n",
    "print(popt)"
   ]
  },
  {
   "cell_type": "code",
   "execution_count": 205,
   "id": "5250be7e",
   "metadata": {},
   "outputs": [
    {
     "data": {
      "image/png": "[encoded data removed]",
      "text/plain": [
       "<Figure size 432x288 with 1 Axes>"
      ]
     },
     "metadata": {
      "needs_background": "light"
     },
     "output_type": "display_data"
    }
   ],
   "source": [
    "new_x=x\n",
    "new_y=func(new_x,popt[0],popt[1],popt[2])\n",
    "plt.plot(new_x, new_y)\n",
    "plt.plot(x,y)\n",
    "plt.show()"
   ]
  },
  {
   "cell_type": "code",
   "execution_count": 222,
   "id": "a115e2a6",
   "metadata": {},
   "outputs": [
    {
     "name": "stdout",
     "output_type": "stream",
     "text": [
      "[ 1.10110915  3.01846201  0.9516669  -1.93242837 15.00791928  0.50418683]\n"
     ]
    }
   ],
   "source": [
    "#One dimensional dataset into multiple Gaussian profiles\n",
    "#Fitting line spectra\n",
    "\n",
    "def ffunc(x,a0,b0,c0,a1,b1,c1):\n",
    "    return a0*np.exp(-(x-b0)**2/(2*c0**2))+a1*np.exp(-(x-b1)**2/(2*c1**2))\n",
    "\n",
    "x=np.linspace(0,20,200)\n",
    "y=ffunc(x,1,3,1,-2,15,0.5)\n",
    "\n",
    "yn=y+0.2*np.random.normal(size=len(x))\n",
    "\n",
    "#For a more complex function, providing guesses will lead to better results\n",
    "guesses=[1,3,1,1,15,1]\n",
    "popt, pocv=curve_fit(ffunc,x,yn,p0=guesses)\n",
    "\n",
    "print(popt)"
   ]
  },
  {
   "cell_type": "code",
   "execution_count": 224,
   "id": "03e8e9e2",
   "metadata": {},
   "outputs": [
    {
     "data": {
      "image/png": "[encoded data removed]",
      "text/plain": [
       "<Figure size 432x288 with 1 Axes>"
      ]
     },
     "metadata": {
      "needs_background": "light"
     },
     "output_type": "display_data"
    }
   ],
   "source": [
    "new_x=x\n",
    "new_y=ffunc(x,popt[0],popt[1],popt[2],popt[3],popt[4],popt[5])\n",
    "plt.plot(new_x, new_y)\n",
    "plt.plot(x,y)\n",
    "plt.show()"
   ]
  },
  {
   "cell_type": "code",
   "execution_count": 217,
   "id": "d865b339",
   "metadata": {},
   "outputs": [
    {
     "name": "stdout",
     "output_type": "stream",
     "text": [
      "[  43.58201413  206.50889085   20.19071769  -43.72070098 -204.10562476\n",
      "  -16.96371862]\n"
     ]
    }
   ],
   "source": [
    "#One dimensional dataset into multiple Gaussian profiles\n",
    "#Fitting line spectra\n",
    "\n",
    "def ffunc(x,a0,b0,c0,a1,b1,c1):\n",
    "    return a0*np.exp(-(x-b0)**2/(2*c0**2))+a1*np.exp(-(x-b1)**2/(2*c1**2))\n",
    "\n",
    "x=np.linspace(0,20,200)\n",
    "y=ffunc(x,1,3,1,-2,15,0.5)\n",
    "\n",
    "yn=y+0.2*np.random.normal(size=len(x))\n",
    "\n",
    "#For a more complex function, providing guesses will lead to better results\n",
    "guesses=[1,3,1,1,15,1]\n",
    "popt, pocv=curve_fit(ffunc,x,yn)\n",
    "\n",
    "print(popt)"
   ]
  },
  {
   "cell_type": "code",
   "execution_count": 218,
   "id": "86cce887",
   "metadata": {},
   "outputs": [
    {
     "name": "stdout",
     "output_type": "stream",
     "text": [
      "[ 126.29591051   84.19958243    4.19693264 -126.45225171  -81.87253799\n",
      "   -1.02194915]\n"
     ]
    }
   ],
   "source": [
    "#One dimensional dataset into multiple Gaussian profiles\n",
    "#Fitting line spectra\n",
    "\n",
    "def ffunc(x,a0,b0,c0,a1,b1,c1):\n",
    "    return a0*np.exp(-(x-b0)**2/(2*c0**2))+a1*np.exp(-(x-b1)**2/(2*c1**2))\n",
    "\n",
    "x=np.linspace(0,20,200)\n",
    "y=ffunc(x,1,3,1,-2,15,0.5)\n",
    "\n",
    "yn=y+0.2*np.random.normal(size=len(x))\n",
    "\n",
    "#For a more complex function, providing guesses will lead to better results\n",
    "guesses=[1,3,1,1,15,1]\n",
    "popt, pocv=curve_fit(ffunc,x,yn)\n",
    "\n",
    "print(popt)\n",
    "#Each execution is giving different result HOW?\n"
   ]
  },
  {
   "cell_type": "code",
   "execution_count": 231,
   "id": "ffaba552",
   "metadata": {},
   "outputs": [
    {
     "name": "stdout",
     "output_type": "stream",
     "text": [
      "13\n",
      "[-3.]\n"
     ]
    }
   ],
   "source": [
    "from scipy.optimize import fsolve\n",
    "\n",
    "line=lambda x:x+3\n",
    "print(line(10))\n",
    "\n",
    "solution=fsolve(line,-2)\n",
    "print(solution)"
   ]
  },
  {
   "cell_type": "code",
   "execution_count": 242,
   "id": "dad4c21e",
   "metadata": {},
   "outputs": [
    {
     "name": "stdout",
     "output_type": "stream",
     "text": [
      "[0.46986895 0.7750461  0.82326814]\n",
      "\n",
      "[13.40773078 18.11366128 31.78330863 37.0799992  39.84837786 43.8258775 ] [-6.58937055e-09 -1.26060537e-08 -2.53453417e-09 -1.31483877e-09\n",
      " -3.27701755e-12 -2.01913882e-09]\n"
     ]
    }
   ],
   "source": [
    "def findIntersection(func1,func2,x0):\n",
    "    return fsolve(lambda x:func1(x)-func2(x),x0)\n",
    "\n",
    "funky=lambda x:np.cos(x/5)*np.sin(x/2)\n",
    "print(funky(np.array([1,2,3])))\n",
    "\n",
    "line=lambda x:0.01*x-0.5\n",
    "\n",
    "x=np.linspace(0,45,10000)\n",
    "result=findIntersection(funky,line,[15,20,30,35,40,45])\n",
    "\n",
    "print()\n",
    "print(result,line(result)-funky(result))"
   ]
  },
  {
   "cell_type": "code",
   "execution_count": 255,
   "id": "81b9b4b7",
   "metadata": {},
   "outputs": [
    {
     "data": {
      "image/png": "[encoded data removed]",
      "text/plain": [
       "<Figure size 432x288 with 1 Axes>"
      ]
     },
     "metadata": {
      "needs_background": "light"
     },
     "output_type": "display_data"
    },
    {
     "data": {
      "image/png": "[encoded data removed]",
      "text/plain": [
       "<Figure size 432x288 with 1 Axes>"
      ]
     },
     "metadata": {
      "needs_background": "light"
     },
     "output_type": "display_data"
    },
    {
     "data": {
      "image/png": "[encoded data removed]",
      "text/plain": [
       "<Figure size 432x288 with 1 Axes>"
      ]
     },
     "metadata": {
      "needs_background": "light"
     },
     "output_type": "display_data"
    },
    {
     "data": {
      "image/png": "[encoded data removed]",
      "text/plain": [
       "<Figure size 432x288 with 1 Axes>"
      ]
     },
     "metadata": {
      "needs_background": "light"
     },
     "output_type": "display_data"
    },
    {
     "data": {
      "image/png": "[encoded data removed]",
      "text/plain": [
       "<Figure size 432x288 with 1 Axes>"
      ]
     },
     "metadata": {
      "needs_background": "light"
     },
     "output_type": "display_data"
    },
    {
     "data": {
      "image/png": "[encoded data removed]",
      "text/plain": [
       "<Figure size 432x288 with 1 Axes>"
      ]
     },
     "metadata": {
      "needs_background": "light"
     },
     "output_type": "display_data"
    },
    {
     "data": {
      "image/png": "[encoded data removed]",
      "text/plain": [
       "<Figure size 432x288 with 1 Axes>"
      ]
     },
     "metadata": {
      "needs_background": "light"
     },
     "output_type": "display_data"
    },
    {
     "data": {
      "image/png": "[encoded data removed]",
      "text/plain": [
       "<Figure size 432x288 with 1 Axes>"
      ]
     },
     "metadata": {
      "needs_background": "light"
     },
     "output_type": "display_data"
    },
    {
     "data": {
      "image/png": "[encoded data removed]",
      "text/plain": [
       "<Figure size 432x288 with 1 Axes>"
      ]
     },
     "metadata": {
      "needs_background": "light"
     },
     "output_type": "display_data"
    }
   ],
   "source": [
    "from scipy.interpolate import interp1d\n",
    "\n",
    "x=np.linspace(0,10*np.pi,100)\n",
    "y=np.cos(x)\n",
    "\n",
    "fl=interp1d(x,y,kind='linear')\n",
    "fq=interp1d(x,y,kind='quadratic')\n",
    "\n",
    "plt.plot(xint, yintq)\n",
    "plt.plot(xint, yintl)\n",
    "plt.show()\n",
    "\n",
    "import time\n",
    "for i in range(5,50,5):\n",
    "    xint=np.linspace(min(x),max(x),i)\n",
    "\n",
    "    yintl=fl(xint)\n",
    "    yintq=fq(xint)\n",
    "\n",
    "    time.sleep(5)\n",
    "    plt.plot(xint, yintq-yintl)\n",
    "\n",
    "\n",
    "    plt.show()"
   ]
  },
  {
   "cell_type": "code",
   "execution_count": 25,
   "id": "4a387eab",
   "metadata": {},
   "outputs": [
    {
     "name": "stdout",
     "output_type": "stream",
     "text": [
      "<scipy.interpolate.fitpack2.UnivariateSpline object at 0x0000020B4F2FF910>\n"
     ]
    },
    {
     "data": {
      "image/png": "[encoded data removed]",
      "text/plain": [
       "<Figure size 432x288 with 1 Axes>"
      ]
     },
     "metadata": {
      "needs_background": "light"
     },
     "output_type": "display_data"
    },
    {
     "name": "stdout",
     "output_type": "stream",
     "text": [
      "<scipy.interpolate.fitpack2.UnivariateSpline object at 0x0000020B4F1D3070>\n"
     ]
    },
    {
     "data": {
      "image/png": "[encoded data removed]",
      "text/plain": [
       "<Figure size 432x288 with 1 Axes>"
      ]
     },
     "metadata": {
      "needs_background": "light"
     },
     "output_type": "display_data"
    },
    {
     "name": "stdout",
     "output_type": "stream",
     "text": [
      "<scipy.interpolate.fitpack2.UnivariateSpline object at 0x0000020B4DF22C10>\n"
     ]
    },
    {
     "data": {
      "image/png": "[encoded data removed]",
      "text/plain": [
       "<Figure size 432x288 with 1 Axes>"
      ]
     },
     "metadata": {
      "needs_background": "light"
     },
     "output_type": "display_data"
    },
    {
     "name": "stdout",
     "output_type": "stream",
     "text": [
      "<scipy.interpolate.fitpack2.UnivariateSpline object at 0x0000020B4F373430>\n"
     ]
    },
    {
     "data": {
      "image/png": "[encoded data removed]",
      "text/plain": [
       "<Figure size 432x288 with 1 Axes>"
      ]
     },
     "metadata": {
      "needs_background": "light"
     },
     "output_type": "display_data"
    },
    {
     "name": "stdout",
     "output_type": "stream",
     "text": [
      "<scipy.interpolate.fitpack2.UnivariateSpline object at 0x0000020B4F2AD550>\n"
     ]
    },
    {
     "data": {
      "image/png": "[encoded data removed]",
      "text/plain": [
       "<Figure size 432x288 with 1 Axes>"
      ]
     },
     "metadata": {
      "needs_background": "light"
     },
     "output_type": "display_data"
    }
   ],
   "source": [
    "for _ in range(5):\n",
    "    from scipy.interpolate import UnivariateSpline\n",
    "\n",
    "    sample=30\n",
    "    x=np.linspace(1,10*np.pi,sample)\n",
    "    yn=np.cos(x)+np.log10(x)+np.random.randn(sample)/10\n",
    "\n",
    "    f=UnivariateSpline(x,yn,s=1)\n",
    "    print(f)\n",
    "    # description about s\n",
    "    #Positive smoothing factor used to choose the number of knots. Number of knots will be increased until the smoothing condition is satisfied:\n",
    "    #sum((w[i] * (y[i]-spl(x[i])))**2, axis=0) <= s\n",
    "    # if s is 0 it will go through noise, s=1 is used when fititng data with noise\n",
    "    xint=np.linspace(x.min(),yn.min(),1000)\n",
    "    yint=f(xint)\n",
    "\n",
    "    plt.plot(xint, yint)\n",
    "    plt.show()"
   ]
  },
  {
   "cell_type": "code",
   "execution_count": 16,
   "id": "a39c3106",
   "metadata": {},
   "outputs": [
    {
     "name": "stdout",
     "output_type": "stream",
     "text": [
      "1 1\n"
     ]
    }
   ],
   "source": [
    "aaa=[1,2,3]\n",
    "aaa=np.array(aaa)\n",
    "print(min(aaa),aaa.min())"
   ]
  },
  {
   "cell_type": "code",
   "execution_count": 57,
   "id": "429b05eb",
   "metadata": {},
   "outputs": [
    {
     "name": "stdout",
     "output_type": "stream",
     "text": [
      "(1000,) (1000,)\n",
      "1000 (1000,)\n"
     ]
    },
    {
     "ename": "ValueError",
     "evalue": "operands could not be broadcast together with shapes (0,2) (1000,) ",
     "output_type": "error",
     "traceback": [
      "\u001b[1;31m---------------------------------------------------------------------------\u001b[0m",
      "\u001b[1;31mValueError\u001b[0m                                Traceback (most recent call last)",
      "Input \u001b[1;32mIn [57]\u001b[0m, in \u001b[0;36m<cell line: 13>\u001b[1;34m()\u001b[0m\n\u001b[0;32m     10\u001b[0m var\u001b[38;5;241m=\u001b[39m(xy[:,\u001b[38;5;241m1\u001b[39m]\u001b[38;5;241m*\u001b[39m\u001b[38;5;241m*\u001b[39m\u001b[38;5;241m2\u001b[39m)\n\u001b[0;32m     11\u001b[0m \u001b[38;5;28mprint\u001b[39m(var\u001b[38;5;241m.\u001b[39msize,var\u001b[38;5;241m.\u001b[39mshape)\n\u001b[1;32m---> 13\u001b[0m sample\u001b[38;5;241m=\u001b[39m\u001b[43mripple\u001b[49m\u001b[43m(\u001b[49m\u001b[43mxy\u001b[49m\u001b[43m[\u001b[49m\u001b[43m:\u001b[49m\u001b[38;5;241;43m0\u001b[39;49m\u001b[43m]\u001b[49m\u001b[38;5;241;43m*\u001b[39;49m\u001b[38;5;241;43m5\u001b[39;49m\u001b[43m,\u001b[49m\u001b[43mxy\u001b[49m\u001b[43m[\u001b[49m\u001b[43m:\u001b[49m\u001b[43m,\u001b[49m\u001b[38;5;241;43m1\u001b[39;49m\u001b[43m]\u001b[49m\u001b[38;5;241;43m*\u001b[39;49m\u001b[38;5;241;43m5\u001b[39;49m\u001b[43m)\u001b[49m\n\u001b[0;32m     14\u001b[0m \u001b[38;5;28mprint\u001b[39m(sample)\n\u001b[0;32m     16\u001b[0m grid_z0\u001b[38;5;241m=\u001b[39mgriddata(xy\u001b[38;5;241m*\u001b[39m\u001b[38;5;241m5\u001b[39m,sample,(grid_x,grid_y),method\u001b[38;5;241m=\u001b[39m\u001b[38;5;124m'\u001b[39m\u001b[38;5;124mcubic\u001b[39m\u001b[38;5;124m'\u001b[39m)\n",
      "Input \u001b[1;32mIn [57]\u001b[0m, in \u001b[0;36m<lambda>\u001b[1;34m(x, y)\u001b[0m\n\u001b[0;32m      1\u001b[0m \u001b[38;5;28;01mfrom\u001b[39;00m \u001b[38;5;21;01mscipy\u001b[39;00m\u001b[38;5;21;01m.\u001b[39;00m\u001b[38;5;21;01minterpolate\u001b[39;00m \u001b[38;5;28;01mimport\u001b[39;00m griddata\n\u001b[1;32m----> 3\u001b[0m ripple\u001b[38;5;241m=\u001b[39m\u001b[38;5;28;01mlambda\u001b[39;00m x,y:np\u001b[38;5;241m.\u001b[39msqrt(\u001b[43m(\u001b[49m\u001b[43mx\u001b[49m\u001b[38;5;241;43m*\u001b[39;49m\u001b[38;5;241;43m*\u001b[39;49m\u001b[38;5;241;43m2\u001b[39;49m\u001b[43m)\u001b[49m\u001b[38;5;241;43m+\u001b[39;49m\u001b[43m(\u001b[49m\u001b[43my\u001b[49m\u001b[38;5;241;43m*\u001b[39;49m\u001b[38;5;241;43m*\u001b[39;49m\u001b[38;5;241;43m2\u001b[39;49m\u001b[43m)\u001b[49m)\u001b[38;5;241m+\u001b[39mnp\u001b[38;5;241m.\u001b[39msin(x\u001b[38;5;241m*\u001b[39m\u001b[38;5;241m*\u001b[39m\u001b[38;5;241m2\u001b[39m\u001b[38;5;241m+\u001b[39my\u001b[38;5;241m*\u001b[39m\u001b[38;5;241m*\u001b[39m\u001b[38;5;241m2\u001b[39m)\n\u001b[0;32m      5\u001b[0m grid_x,grid_y\u001b[38;5;241m=\u001b[39mnp\u001b[38;5;241m.\u001b[39mmgrid[\u001b[38;5;241m0\u001b[39m:\u001b[38;5;241m5\u001b[39m:\u001b[38;5;241m1000\u001b[39mj,\u001b[38;5;241m0\u001b[39m:\u001b[38;5;241m5\u001b[39m:\u001b[38;5;241m1000\u001b[39mj]\n\u001b[0;32m      7\u001b[0m xy\u001b[38;5;241m=\u001b[39mnp\u001b[38;5;241m.\u001b[39mrandom\u001b[38;5;241m.\u001b[39mrand(\u001b[38;5;241m1000\u001b[39m,\u001b[38;5;241m2\u001b[39m)\n",
      "\u001b[1;31mValueError\u001b[0m: operands could not be broadcast together with shapes (0,2) (1000,) "
     ]
    }
   ],
   "source": [
    "from scipy.interpolate import griddata\n",
    "\n",
    "ripple=lambda x,y:np.sqrt((x**2)+(y**2))+np.sin(x**2+y**2)\n",
    "\n",
    "grid_x,grid_y=np.mgrid[0:5:1000j,0:5:1000j]\n",
    "\n",
    "xy=np.random.rand(1000,2)\n",
    "print(xy[:,0].shape,xy[:,1].shape)\n",
    "\n",
    "var=(xy[:,1]**2)\n",
    "print(var.size,var.shape)\n",
    "\n",
    "sample=ripple(xy[:0]*5,xy[:,1]*5)\n",
    "print(sample)\n",
    "\n",
    "grid_z0=griddata(xy*5,sample,(grid_x,grid_y),method='cubic')\n",
    "\n",
    "#on an image, random points are put on it\n",
    "# using only those points we are trying to interpolate back to the original image"
   ]
  },
  {
   "cell_type": "code",
   "execution_count": null,
   "id": "5380a00a",
   "metadata": {},
   "outputs": [],
   "source": [
    "grid_x,grid_y=np.mgrid[0:5:10j,0:5]\n",
    "print(grid_x)\n",
    "print()\n",
    "print(grid_y)"
   ]
  },
  {
   "cell_type": "code",
   "execution_count": 60,
   "id": "2b3499af",
   "metadata": {},
   "outputs": [
    {
     "name": "stderr",
     "output_type": "stream",
     "text": [
      "C:\\Users\\mpree\\anaconda3\\lib\\site-packages\\scipy\\interpolate\\fitpack2.py:1176: UserWarning: \n",
      "The required storage space exceeds the available storage space: nxest\n",
      "or nyest too small, or s too small.\n",
      "The weighted least-squares spline corresponds to the current set of\n",
      "knots.\n",
      "  warnings.warn(message)\n"
     ]
    },
    {
     "data": {
      "image/png": "[encoded data removed]",
      "text/plain": [
       "<Figure size 432x288 with 1 Axes>"
      ]
     },
     "metadata": {
      "needs_background": "light"
     },
     "output_type": "display_data"
    }
   ],
   "source": [
    "#better vesion of the previous interpolation\n",
    "from scipy.interpolate import SmoothBivariateSpline as SBS\n",
    "\n",
    "ripple=lambda x,y:np.sqrt(x**2+y**2)+np.sin(x**2+y**2)\n",
    "\n",
    "xy=np.random.rand(1000,2)\n",
    "x,y=xy[:,0],xy[:,1]\n",
    "sample=ripple(x*5,y*5)\n",
    "\n",
    "fit=SBS(x*5,y*5,sample,s=0.01,kx=4,ky=4)\n",
    "interp=fit(np.linspace(0,5,1000),np.linspace(0,5,1000))\n",
    "\n",
    "plt.plot(x, interp)\n",
    "plt.show()\n",
    "\n",
    "# this works better than previous except for upper right corner\n",
    "#very sensitive to data sample\n",
    "#griddata better"
   ]
  },
  {
   "cell_type": "code",
   "execution_count": 63,
   "id": "d581fe12",
   "metadata": {},
   "outputs": [
    {
     "name": "stdout",
     "output_type": "stream",
     "text": [
      "(1.296467785724373, 1.397797133112089e-09)\n"
     ]
    }
   ],
   "source": [
    "#Integration --> function to integrate is known\n",
    "from scipy.integrate import quad\n",
    "\n",
    "func=lambda x:np.cos(np.exp(x))**2\n",
    "\n",
    "solution=quad(func,0,3) # from 0 to 3 on func\n",
    "print(solution)"
   ]
  },
  {
   "cell_type": "code",
   "execution_count": 65,
   "id": "cb7a3caa",
   "metadata": {},
   "outputs": [
    {
     "name": "stdout",
     "output_type": "stream",
     "text": [
      "(5.100345067540932, 1.2589916699365199e-08)\n",
      "5.166774550269782\n"
     ]
    }
   ],
   "source": [
    "#Numerical Integration\n",
    "from scipy.integrate import quad,trapz\n",
    "\n",
    "x=np.sort(np.random.randn(150)*4+4).clip(0,5)\n",
    "func=lambda x:np.sin(x)*np.cos(x**2)+1\n",
    "y=func(x)\n",
    "\n",
    "fsolution=quad(func,0,5)\n",
    "dsolution=trapz(y,x=x)\n",
    "\n",
    "print(fsolution)\n",
    "print(dsolution)\n",
    "\n",
    "#quad intergrator can only work with a callable function\n",
    "#trapz integrates using discrete data points"
   ]
  },
  {
   "cell_type": "code",
   "execution_count": 74,
   "id": "1f2c1dc9",
   "metadata": {},
   "outputs": [
    {
     "name": "stdout",
     "output_type": "stream",
     "text": [
      "-0.033048182456899645\n",
      "1.008816418354123\n",
      "1.0177105659408412\n"
     ]
    }
   ],
   "source": [
    "x=np.random.randn(1000)\n",
    "\n",
    "print(x.mean())\n",
    "print(x.std())\n",
    "print(x.var())"
   ]
  },
  {
   "cell_type": "code",
   "execution_count": 76,
   "id": "e91ed584",
   "metadata": {},
   "outputs": [
    {
     "data": {
      "text/plain": [
       "1.017710565940841"
      ]
     },
     "execution_count": 76,
     "metadata": {},
     "output_type": "execute_result"
    }
   ],
   "source": [
    "1.008816418354123**2"
   ]
  },
  {
   "cell_type": "code",
   "execution_count": 81,
   "id": "eadd21f5",
   "metadata": {},
   "outputs": [
    {
     "name": "stdout",
     "output_type": "stream",
     "text": [
      "[ 7.19384073e-01 -6.66457956e-01 -2.33186420e-01  9.93149541e-01\n",
      " -4.11787754e-04 -3.98908069e-01  4.41534493e-01 -7.67225790e-01\n",
      " -1.62648270e-01  1.14389788e+00]\n"
     ]
    }
   ],
   "source": [
    "# Classic normal function (mean=0, variance=1)\n",
    "from scipy.stats import norm\n",
    "\n",
    "x=np.linspace(-5,5,1000)\n",
    "\n",
    "dist=norm(loc=0,scale=1) # change the centre and scale\n",
    "\n",
    "pdf=dist.pdf(x)\n",
    "cdf=dist.cdf(x)\n",
    "\n",
    "#random values from the norm\n",
    "sample=dist.rvs(10)\n",
    "print(sample)"
   ]
  },
  {
   "cell_type": "code",
   "execution_count": 94,
   "id": "45a7e6ba",
   "metadata": {},
   "outputs": [
    {
     "name": "stdout",
     "output_type": "stream",
     "text": [
      "[1444   53  823  162   58 2078  931 2530  233  951 1020  931 3828   40\n",
      " 1094   42 1282 4546 2834 1014  188  710 2199 1165  314  205  347 1656\n",
      "  168  113  113  983  788 1015  736  345  494   58  832 2096  609  155\n",
      "  349  719 2407 1258 1479   81  653  233  194  547   74  784 1162  315\n",
      " 4331  322  537   85  152   30 1572 2722  181  349 1531   92  656 3324\n",
      "  304  641  839 1163 1036 1055  210  384  231  113  231  340  395  735\n",
      "  788 2950  978  179  171 1489 1075  746 1043 2892 2707 1981  299 1030\n",
      "  855 1363]\n"
     ]
    }
   ],
   "source": [
    "#For discrete distributions\n",
    "from scipy.stats import geom\n",
    "\n",
    "p=0.001\n",
    "dist=geom(p)\n",
    "\n",
    "x=np.linspace(0,50,1000)\n",
    "\n",
    "pmf=dist.pmf(x)\n",
    "cdf=dist.cdf(x)\n",
    "\n",
    "sample=dist.rvs(100)\n",
    "print(sample)"
   ]
  },
  {
   "cell_type": "code",
   "execution_count": 95,
   "id": "42b42ea6",
   "metadata": {},
   "outputs": [
    {
     "name": "stdout",
     "output_type": "stream",
     "text": [
      "normaltest output\n",
      "Z-score = 0.5737567647592792\n",
      "P-value = 0.7506030098381583\n",
      "\n",
      "kstest output for the Normal Distribution\n",
      "D = 0.08577071647653728\n",
      "P-value = 0.4297481957131507\n",
      "\n",
      "kstest output for the Wald Distribution\n",
      "D = 0.5710827170384124\n",
      "P-value = 2.221877852765568e-31\n"
     ]
    }
   ],
   "source": [
    "from scipy import stats\n",
    "\n",
    "sample=np.random.randn(100)\n",
    "\n",
    "#normaltest tests the null hypothesis\n",
    "out=stats.normaltest(sample)\n",
    "print('normaltest output')\n",
    "print('Z-score = '+str(out[0]))\n",
    "print('P-value = '+str(out[1]))\n",
    "\n",
    "\n",
    "#kstest is the Kolmogorov-Smirnov test for goodness of fit\n",
    "#D is the KS statistic and the closer it is to 0, the better\n",
    "# this function compares sample to normal distribution\n",
    "out=stats.kstest(sample,'norm')\n",
    "print(\"\\nkstest output for the Normal Distribution\")\n",
    "print(\"D = \"+str(out[0]))\n",
    "print('P-value = '+str(out[1]))\n",
    "\n",
    "#kstest applied to wald distribution/Inverse-exponentiation distribution\n",
    "out=stats.kstest(sample,'wald')\n",
    "print(\"\\nkstest output for the Wald Distribution\")\n",
    "print(\"D = \"+str(out[0]))\n",
    "print('P-value = '+str(out[1]))"
   ]
  },
  {
   "cell_type": "code",
   "execution_count": 140,
   "id": "bf09537f",
   "metadata": {},
   "outputs": [
    {
     "data": {
      "image/png": "[encoded data removed]",
      "text/plain": [
       "<Figure size 432x288 with 1 Axes>"
      ]
     },
     "metadata": {
      "needs_background": "light"
     },
     "output_type": "display_data"
    },
    {
     "name": "stdout",
     "output_type": "stream",
     "text": [
      "1 clusters --> 2 clusters --> 3 clusters --> 4 clusters --> 5 clusters --> 6 clusters --> 7 clusters --> 8 clusters --> 9 clusters --> "
     ]
    },
    {
     "data": {
      "text/plain": [
       "[]"
      ]
     },
     "execution_count": 140,
     "metadata": {},
     "output_type": "execute_result"
    },
    {
     "data": {
      "image/png": "[encoded data removed]",
      "text/plain": [
       "<Figure size 432x288 with 1 Axes>"
      ]
     },
     "metadata": {
      "needs_background": "light"
     },
     "output_type": "display_data"
    }
   ],
   "source": [
    "#Vector Quantization\n",
    "from scipy.cluster import vq\n",
    "\n",
    "c1=np.random.randn(100,2)+5\n",
    "c2=np.random.randn(30,2)-5\n",
    "c3=np.random.randn(50,2)\n",
    "\n",
    "data=np.vstack([c1,c2,c3])\n",
    "plt.scatter(data[:,0],data[:,1])\n",
    "plt.show()\n",
    "\n",
    "#higher the variance better it is\n",
    "#works in an non-deterministic way i.e., not same output for each run using same values maybe because of random initilization\n",
    "yy=[]\n",
    "for i in range(1,10):\n",
    "    print(i,\"clusters --> \",end='')\n",
    "    for j in range(1):\n",
    "        centroids,variance=vq.kmeans(data,i)\n",
    "        yy.append(variance)\n",
    "centroids,variance=vq.kmeans(data,3)\n",
    "xx=[i for i in range(1,10)]\n",
    "plt.plot(xx,yy)\n",
    "plt.plot()"
   ]
  },
  {
   "cell_type": "code",
   "execution_count": 141,
   "id": "ebf437ca",
   "metadata": {},
   "outputs": [],
   "source": [
    "identified,distance=vq.vq(data,centroids)\n",
    "#GIVES labels"
   ]
  },
  {
   "cell_type": "code",
   "execution_count": 142,
   "id": "ec8f9197",
   "metadata": {},
   "outputs": [
    {
     "name": "stdout",
     "output_type": "stream",
     "text": [
      "[0 0 0 0 0 0 0 0 0 0 0 0 0 0 0 0 0 0 0 0 0 0 0 0 0 0 0 0 0 0 0 0 0 0 0 0 0\n",
      " 0 0 0 0 0 0 0 0 0 0 0 0 0 0 0 0 0 0 0 0 0 0 0 0 0 0 0 0 0 0 0 0 0 0 0 0 0\n",
      " 0 0 0 0 0 0 0 0 0 0 0 0 0 0 0 0 0 0 0 0 0 0 0 0 0 0 1 1 1 1 1 1 1 1 1 1 1\n",
      " 1 1 1 1 1 1 1 1 1 1 1 1 1 1 1 1 1 1 1 2 2 2 2 2 2 2 2 2 2 2 2 2 2 2 2 2 2\n",
      " 2 2 2 2 2 2 2 2 2 2 2 2 2 2 2 2 2 2 2 2 2 2 2 2 2 2 2 2 2 2 2 2]\n"
     ]
    }
   ],
   "source": [
    "print(identified)"
   ]
  },
  {
   "cell_type": "code",
   "execution_count": 146,
   "id": "88c34311",
   "metadata": {},
   "outputs": [
    {
     "name": "stdout",
     "output_type": "stream",
     "text": [
      "100\n",
      "30\n",
      "50\n"
     ]
    }
   ],
   "source": [
    "vqc1=data[identified==0]\n",
    "vqc2=data[identified==1]\n",
    "vqc3=data[identified==2]\n",
    "\n",
    "print(len(vqc1))\n",
    "print(len(vqc2))\n",
    "print(len(vqc3))"
   ]
  },
  {
   "cell_type": "code",
   "execution_count": 178,
   "id": "c52fc854",
   "metadata": {},
   "outputs": [
    {
     "name": "stdout",
     "output_type": "stream",
     "text": [
      "[12.85539506 15.44934935 12.75221623  4.26815075 12.20443997]\n",
      "[12 15 12  4 12]\n",
      "[12 15 12  5 12]\n",
      "[10 10 10  5 10]\n",
      "[[0.64276975 0.00383414]\n",
      " [0.77246747 0.48407078]\n",
      " [0.63761081 0.28924726]\n",
      " [0.21340754 0.52994632]\n",
      " [0.610222   0.77993353]]\n",
      "[0.011119   1.40380527 0.83881704 1.53684433 2.26180723]\n",
      "\n",
      "[[-0.76374835  0.34612113  0.61575514]\n",
      " [-0.24551298  0.17366038 -1.13195663]\n",
      " [-0.43277535  0.69591148 -2.40145103]\n",
      " [ 1.36234566  1.11476624  2.04502708]\n",
      " [-1.90261473 -0.55898309  1.66440531]\n",
      " [ 0.75475505  0.9630032   0.02417118]\n",
      " [-0.93365965 -0.67376242  0.15961941]\n",
      " [-0.24620546 -0.49826173  0.73428664]\n",
      " [-0.64743322  0.41517297 -0.51783275]\n",
      " [ 0.75412292 -0.24523826  0.18159664]] 10\n",
      "\n",
      "[  6.25647734 -12.08308848  -2.72923125]\n",
      "[[ 2.33367675 -0.77846623  0.16986261]\n",
      " [ 0.24850947 -1.24049358 -0.14723231]\n",
      " [-1.55153902 -2.39989846  0.34383845]\n",
      " [ 0.78023591 -0.93656447  0.31039819]\n",
      " [ 0.00722425 -0.93835919 -0.49335839]\n",
      " [ 1.51460366  1.09211782  0.66613491]\n",
      " [ 0.0033909  -0.27754241  0.51485616]\n",
      " [-1.20535733  1.12274329  0.39913339]\n",
      " [-1.14378574 -0.48928953  0.61262392]\n",
      " [-1.07601871 -0.59025043 -1.72354421]] 10\n",
      "\n",
      "[  6.25647734 -12.08308848  -2.72923125]\n",
      "[[ 0.7164815   0.2749658  -1.32444373]\n",
      " [-0.19488368 -0.62868947  0.13204763]\n",
      " [-0.85493758 -0.01972845 -0.42970142]\n",
      " [-1.24518284 -0.61652734  1.35680887]\n",
      " [ 1.70023517  0.14929593 -0.84346863]] 5\n",
      "\n",
      "[  6.25647734 -12.08308848  -2.72923125]\n",
      "[[ 2.65643506 -1.10740873 -0.24129906]\n",
      " [-0.28055366 -0.17028626  0.86373214]\n",
      " [-0.48968379 -1.62895806  1.34099456]\n",
      " [ 0.91240753  0.6594892  -0.67998173]\n",
      " [-0.77274424 -0.3814167   0.70432255]\n",
      " [-0.93576627  2.31869358 -0.38358149]\n",
      " [ 0.02401384  0.39237797  0.0309033 ]\n",
      " [-0.01088244  0.14185594  0.37814779]\n",
      " [-0.98119983 -0.30530759 -0.3190158 ]\n",
      " [ 0.7654842  -0.43106834  0.50372954]] 10\n",
      "\n",
      "[  6.25647734 -12.08308848  -2.72923125]\n",
      "function over!\n",
      "[  6.25647734 -12.08308848]\n",
      "22.93448113820682\n"
     ]
    },
    {
     "name": "stderr",
     "output_type": "stream",
     "text": [
      "C:\\Users\\mpree\\AppData\\Local\\Temp\\ipykernel_11868\\1927273390.py:53: ClusterWarning: scipy.cluster: The symmetric non-negative hollow observation matrix looks suspiciously like an uncondensed distance matrix\n",
      "  Y1=hy.linkage(D, method='complete')\n",
      "C:\\Users\\mpree\\AppData\\Local\\Temp\\ipykernel_11868\\1927273390.py:60: ClusterWarning: scipy.cluster: The symmetric non-negative hollow observation matrix looks suspiciously like an uncondensed distance matrix\n",
      "  Y2=hy.linkage(D, method='average')\n"
     ]
    },
    {
     "data": {
      "image/png": "[encoded data removed]",
      "text/plain": [
       "<Figure size 576x576 with 3 Axes>"
      ]
     },
     "metadata": {
      "needs_background": "light"
     },
     "output_type": "display_data"
    }
   ],
   "source": [
    "#Hierarchical Clustering\n",
    "import matplotlib.pyplot as mpl\n",
    "#To employ the hierarchical function, we build a distance matrix\n",
    "from mpl_toolkits.mplot3d import Axes3D\n",
    "from scipy.spatial.distance import pdist, squareform\n",
    "import scipy.cluster.hierarchy as hy\n",
    "\n",
    "def clusters(number=20,cnumber=5,csize=10):\n",
    "    #Clusters are formed using Gaussian randomness\n",
    "    rnum=np.random.rand(cnumber,2)\n",
    "    rn=rnum[:,0]*number\n",
    "    print(rn)\n",
    "    rn=rn.astype(int)\n",
    "    print(rn)\n",
    "    \n",
    "    rn[np.where(rn<5)]=5\n",
    "    print(rn)\n",
    "    rn[np.where(rn>number/2.0)]=round(number/2.0)\n",
    "    print(rn)\n",
    "    \n",
    "    ra=rnum[:,1]*2.9\n",
    "    print(rnum)\n",
    "    print(ra)\n",
    "    ra[np.where(ra<1.5)]=1.5\n",
    "    \n",
    "    cls=np.random.randn(number,3)*csize\n",
    "    print()\n",
    "    #Random multipliers for central point of cluster\n",
    "    rxyz=np.random.randn(cnumber-1,3)\n",
    "    for i in range(cnumber-1):\n",
    "        tmp=np.random.randn(rn[i+1],3)\n",
    "        print(tmp,rn[i+1])\n",
    "        \n",
    "        x=tmp[:,0]+(rxyz[i,0]*csize)\n",
    "        y=tmp[:,1]+(rxyz[i,1]*csize)\n",
    "        z=tmp[:,2]+(rxyz[i,2]*csize)\n",
    "        \n",
    "        print()\n",
    "        cls=np.vstack([cls,tmp])\n",
    "        print(cls[0])\n",
    "    print(\"function over!\")\n",
    "    return cls\n",
    "\n",
    "cls=clusters()\n",
    "print(cls[:,0:2][0])\n",
    "D=pdist(cls[:,0:2])[0]\n",
    "print(D)\n",
    "D=squareform(D)\n",
    "#now this is distance matrix\n",
    "\n",
    "fig=mpl.figure(figsize=(8,8))\n",
    "ax1=fig.add_axes([0.09,0.1,0.2,0.6])\n",
    "Y1=hy.linkage(D, method='complete')\n",
    "cutoff=0.3*np.max(Y1[:,2])\n",
    "Z1=hy.dendrogram(Y1,orientation='right',color_threshold=cutoff)\n",
    "ax1.xaxis.set_visible(False)\n",
    "ax1.yaxis.set_visible(False)\n",
    "\n",
    "ax2=fig.add_axes([0.3,0.71,0.6,0.2])\n",
    "Y2=hy.linkage(D, method='average')\n",
    "cutoff=0.3*np.max(Y1[:,2])\n",
    "Z2=hy.dendrogram(Y1,color_threshold=cutoff)\n",
    "ax2.xaxis.set_visible(False)\n",
    "ax2.yaxis.set_visible(False)\n",
    "\n",
    "ax3=fig.add_axes([0.3,0.1,0.6,0.6])\n",
    "idx1=Z1['leaves']\n",
    "idx2=Z2['leaves']\n",
    "D=D[idx1,:]\n",
    "D=D[:,idx2]\n",
    "ax3.matshow(D,aspect='auto',origin='lower',cmap=mpl.cm.YlGnBu)\n",
    "ax2.xaxis.set_visible(False)\n",
    "ax2.yaxis.set_visible(False)\n",
    "\n",
    "fig.savefig('Hierarchical_clustering.pdf')\n",
    "#IDK IT IS SUPPOSED TO DO HIERARCHICAL CLUSTERING BUT IT IS AN OLDER VERSION OF PYTHON SO CODE IS NOT RUNNING"
   ]
  },
  {
   "cell_type": "code",
   "execution_count": 173,
   "id": "b6899292",
   "metadata": {},
   "outputs": [
    {
     "data": {
      "text/plain": [
       "array([[0.        , 2.82842712, 5.65685425],\n",
       "       [2.82842712, 0.        , 2.82842712],\n",
       "       [5.65685425, 2.82842712, 0.        ]])"
      ]
     },
     "execution_count": 173,
     "metadata": {},
     "output_type": "execute_result"
    }
   ],
   "source": [
    "squareform(pdist([[1,2],[3,4],[5,6]]))"
   ]
  },
  {
   "cell_type": "code",
   "execution_count": 172,
   "id": "122ed5b2",
   "metadata": {},
   "outputs": [
    {
     "data": {
      "text/plain": [
       "array([[ 0.        , 11.89524441],\n",
       "       [11.89524441,  0.        ]])"
      ]
     },
     "execution_count": 172,
     "metadata": {},
     "output_type": "execute_result"
    }
   ],
   "source": [
    "D"
   ]
  },
  {
   "cell_type": "code",
   "execution_count": 179,
   "id": "8dd311aa",
   "metadata": {},
   "outputs": [],
   "source": [
    "#this function places bright pixel per x and y position between two images\n",
    "#similar to PIL's ImageChop.Lighter function\n",
    "\n",
    "def chop_lighter(image1,image2):\n",
    "    s1=np.sum(image1,axis=2)\n",
    "    s2=np.sum(image2,axis=2)\n",
    "    \n",
    "    index=s1<s2\n",
    "    image1[index,0]=image2[index,0]\n",
    "    image1[index,1]=image2[index,1]\n",
    "    image1[index,2]=image2[index,2]\n",
    "    \n",
    "    return image1\n",
    "    \n",
    "    "
   ]
  },
  {
   "cell_type": "code",
   "execution_count": 191,
   "id": "2e17ca2f",
   "metadata": {},
   "outputs": [
    {
     "name": "stdout",
     "output_type": "stream",
     "text": [
      "720000 bytes  (311, 1752)\t0.04872217138037438\n",
      "  (1088, 269)\t0.9529326338305626\n",
      "  (1904, 1092)\t0.7691709567629442\n",
      "  (1805, 760)\t0.5295653317290584\n",
      "  (1991, 1846)\t0.8720166917933001\n",
      "  (139, 1153)\t0.7367300621428811\n",
      "  (841, 90)\t0.9392567767287189\n",
      "  (572, 15)\t0.8663166986825438\n",
      "  (10, 913)\t0.2729899475287213\n",
      "  (773, 974)\t0.4525655816539601\n",
      "  (983, 814)\t0.3577016501283963\n",
      "  (1166, 877)\t0.6518910384506347\n",
      "  (1182, 416)\t0.2456635207803436\n",
      "  (763, 925)\t0.0014679792191203411\n",
      "  (284, 379)\t0.002953329229962387\n",
      "  (622, 1298)\t0.7618546781941773\n",
      "  (1519, 957)\t0.7916851480781765\n",
      "  (1077, 1473)\t0.15238276169517828\n",
      "  (840, 645)\t0.47497943577491364\n",
      "  (1674, 1338)\t0.4297375856425656\n",
      "  (398, 1191)\t0.23251152149929422\n",
      "  (1796, 1950)\t0.9662506331334701\n",
      "  (1979, 160)\t0.09286066749473376\n",
      "  (1571, 758)\t0.8726452177495222\n",
      "  (1666, 1384)\t0.9047110843067341\n",
      "  :\t:\n",
      "  (1936, 263)\t0.3501917446752718\n",
      "  (986, 537)\t0.9266128009174731\n",
      "  (853, 480)\t0.4334621033862438\n",
      "  (843, 1994)\t0.4148281367957173\n",
      "  (56, 599)\t0.45956578742817056\n",
      "  (553, 697)\t0.15641064541660332\n",
      "  (409, 287)\t0.3541244105662287\n",
      "  (1318, 1341)\t0.5276820806741354\n",
      "  (1393, 222)\t0.8425625574366092\n",
      "  (1511, 657)\t0.15492927484362162\n",
      "  (595, 1422)\t0.8526378142137395\n",
      "  (1411, 1996)\t0.5053723309054629\n",
      "  (180, 346)\t0.1820899718018646\n",
      "  (548, 1310)\t0.6024268623271611\n",
      "  (279, 785)\t0.7243750216957807\n",
      "  (1672, 1296)\t0.23788233964451533\n",
      "  (1418, 210)\t0.6740424172176114\n",
      "  (1805, 393)\t0.5335118478433041\n",
      "  (410, 1746)\t0.2706167432768073\n",
      "  (817, 1803)\t0.8120938683828363\n",
      "  (210, 1535)\t0.7081961194097605\n",
      "  (838, 101)\t0.9089469831618053\n",
      "  (649, 1101)\t0.6618240380151065\n",
      "  (1168, 1855)\t0.44371067514317053\n",
      "  (788, 1541)\t0.24757580267060786\n",
      "NumPy array data:  32000000 bytes\n",
      "Sparse matrix size: 320000 bytes\n",
      "Non-sparse function takes  2.237947940826416\n",
      "Sparse operation takes  0.08523130416870117\n"
     ]
    }
   ],
   "source": [
    "arr=np.random.random((300,300))\n",
    "print(arr.nbytes,end=' bytes')\n",
    "\n",
    "from scipy.sparse.linalg import eigsh\n",
    "from scipy.linalg import eigh\n",
    "import scipy.sparse\n",
    "import time\n",
    "\n",
    "m=scipy.sparse.rand(2000,2000)\n",
    "print(m)\n",
    "\n",
    "a=m.toarray()\n",
    "\n",
    "print(\"NumPy array data: \",str(a.nbytes),'bytes')\n",
    "print('Sparse matrix size: '+str(m.data.nbytes),'bytes')\n",
    "\n",
    "t0=time.time()\n",
    "res1=eigh(a)\n",
    "print(\"Non-sparse function takes \",time.time()-t0)\n",
    "\n",
    "t1=time.time()\n",
    "res2=eigsh(m)\n",
    "print(\"Sparse operation takes \",time.time()-t1)"
   ]
  },
  {
   "cell_type": "code",
   "execution_count": 6,
   "id": "b2789eae",
   "metadata": {},
   "outputs": [
    {
     "ename": "ModuleNotFoundError",
     "evalue": "No module named 'skimage.filter'",
     "output_type": "error",
     "traceback": [
      "\u001b[1;31m---------------------------------------------------------------------------\u001b[0m",
      "\u001b[1;31mModuleNotFoundError\u001b[0m                       Traceback (most recent call last)",
      "Input \u001b[1;32mIn [6]\u001b[0m, in \u001b[0;36m<cell line: 5>\u001b[1;34m()\u001b[0m\n\u001b[0;32m      3\u001b[0m \u001b[38;5;28;01mimport\u001b[39;00m \u001b[38;5;21;01mmatplotlib\u001b[39;00m\u001b[38;5;21;01m.\u001b[39;00m\u001b[38;5;21;01mpyplot\u001b[39;00m \u001b[38;5;28;01mas\u001b[39;00m \u001b[38;5;21;01mmpl\u001b[39;00m\n\u001b[0;32m      4\u001b[0m \u001b[38;5;28;01mimport\u001b[39;00m \u001b[38;5;21;01mscipy\u001b[39;00m\u001b[38;5;21;01m.\u001b[39;00m\u001b[38;5;21;01mndimage\u001b[39;00m \u001b[38;5;28;01mas\u001b[39;00m \u001b[38;5;21;01mndimage\u001b[39;00m\n\u001b[1;32m----> 5\u001b[0m \u001b[38;5;28;01mimport\u001b[39;00m \u001b[38;5;21;01mskimage\u001b[39;00m\u001b[38;5;21;01m.\u001b[39;00m\u001b[38;5;21;01mfilter\u001b[39;00m \u001b[38;5;28;01mas\u001b[39;00m \u001b[38;5;21;01mskif\u001b[39;00m \u001b[38;5;66;03m##OUTDATED CODE\u001b[39;00m\n\u001b[0;32m      7\u001b[0m x\u001b[38;5;241m=\u001b[39mnp\u001b[38;5;241m.\u001b[39mrandom\u001b[38;5;241m.\u001b[39muniform(low\u001b[38;5;241m=\u001b[39m\u001b[38;5;241m0\u001b[39m,high\u001b[38;5;241m=\u001b[39m\u001b[38;5;241m100\u001b[39m,size\u001b[38;5;241m=\u001b[39m\u001b[38;5;241m20\u001b[39m)\u001b[38;5;241m.\u001b[39mastype(\u001b[38;5;28mint\u001b[39m)\n\u001b[0;32m      8\u001b[0m \u001b[38;5;28mprint\u001b[39m(x)\n",
      "\u001b[1;31mModuleNotFoundError\u001b[0m: No module named 'skimage.filter'"
     ]
    }
   ],
   "source": [
    "#identify points on a non-uniform background uisng \"filter\" which is outdated\n",
    "\n",
    "import matplotlib.pyplot as mpl\n",
    "import scipy.ndimage as ndimage\n",
    "import skimage.filter as skif ##OUTDATED CODE\n",
    "\n",
    "x=np.random.uniform(low=0,high=100,size=20).astype(int)\n",
    "print(x)"
   ]
  },
  {
   "cell_type": "code",
   "execution_count": 16,
   "id": "b3b60f70",
   "metadata": {},
   "outputs": [
    {
     "name": "stdout",
     "output_type": "stream",
     "text": [
      "[[0. 0. 0. ... 0. 0. 0.]\n",
      " [0. 0. 0. ... 0. 0. 0.]\n",
      " [0. 0. 0. ... 0. 0. 0.]\n",
      " ...\n",
      " [0. 0. 0. ... 0. 0. 0.]\n",
      " [0. 0. 0. ... 0. 0. 0.]\n",
      " [0. 0. 0. ... 0. 0. 0.]]\n"
     ]
    },
    {
     "ename": "IndexError",
     "evalue": "index 108 is out of bounds for axis 0 with size 50",
     "output_type": "error",
     "traceback": [
      "\u001b[1;31m---------------------------------------------------------------------------\u001b[0m",
      "\u001b[1;31mIndexError\u001b[0m                                Traceback (most recent call last)",
      "Input \u001b[1;32mIn [16]\u001b[0m, in \u001b[0;36m<cell line: 16>\u001b[1;34m()\u001b[0m\n\u001b[0;32m     14\u001b[0m clean\u001b[38;5;241m=\u001b[39mnp\u001b[38;5;241m.\u001b[39mzeros((\u001b[38;5;241m50\u001b[39m,\u001b[38;5;241m50\u001b[39m))\n\u001b[0;32m     15\u001b[0m \u001b[38;5;28mprint\u001b[39m(clean)\n\u001b[1;32m---> 16\u001b[0m clean[(x,y)]\u001b[38;5;241m+\u001b[39m\u001b[38;5;241m=\u001b[39m\u001b[38;5;241m5\u001b[39m\n\u001b[0;32m     17\u001b[0m \u001b[38;5;28mprint\u001b[39m(clean)\n",
      "\u001b[1;31mIndexError\u001b[0m: index 108 is out of bounds for axis 0 with size 50"
     ]
    }
   ],
   "source": [
    "# Local Maxima --> also can be used to solve previous problem --> identify points on a non-uniform background\n",
    "import skimage.morphology as morph\n",
    "\n",
    "x=np.random.uniform(low=0,high=200,size=20).astype(int)\n",
    "y=np.random.uniform(low=0,high=400,size=20).astype(int)\n",
    "#print(x)\n",
    "\n",
    "func=lambda x,y:np.cos(x)+np.sin(y)\n",
    "grid_x,grid_y=np.mgrid[0:12:200j,0:24:400j]\n",
    "\n",
    "bkg=func(grid_x,grid_y)\n",
    "bkg=bkg/np.max(bkg)\n",
    "\n",
    "clean=np.zeros((50,50))\n",
    "print(clean)\n",
    "clean[(x,y)]+=5\n",
    "print(clean)"
   ]
  },
  {
   "cell_type": "code",
   "execution_count": 19,
   "id": "6275b708",
   "metadata": {},
   "outputs": [
    {
     "name": "stdout",
     "output_type": "stream",
     "text": [
      "[[0. 0. 0. 0. 0. 0. 0. 0. 0. 0. 0. 0. 0. 0. 0. 0. 0. 0. 0. 0. 0. 0. 0. 0.\n",
      "  0. 0. 0. 0. 0. 0. 0. 0. 0. 0. 0. 0. 0. 0. 0. 0. 0. 0. 0. 0. 0. 0. 0. 0.\n",
      "  0. 0.]\n",
      " [0. 0. 0. 0. 0. 0. 0. 0. 0. 0. 0. 0. 0. 0. 0. 0. 0. 0. 0. 0. 0. 0. 0. 0.\n",
      "  0. 0. 0. 0. 0. 0. 0. 0. 0. 0. 0. 0. 0. 0. 0. 0. 0. 0. 0. 0. 0. 0. 0. 0.\n",
      "  0. 0.]\n",
      " [0. 0. 0. 0. 0. 0. 0. 0. 0. 0. 0. 0. 0. 0. 0. 0. 0. 0. 0. 0. 0. 0. 0. 0.\n",
      "  0. 0. 0. 0. 0. 0. 0. 0. 0. 0. 0. 0. 0. 0. 0. 0. 0. 0. 0. 0. 0. 0. 0. 0.\n",
      "  0. 0.]\n",
      " [0. 0. 0. 0. 0. 0. 0. 0. 0. 0. 0. 0. 0. 0. 0. 0. 0. 0. 0. 0. 0. 0. 0. 0.\n",
      "  0. 0. 0. 0. 0. 0. 0. 0. 0. 0. 0. 0. 0. 0. 0. 0. 0. 0. 0. 0. 0. 0. 0. 0.\n",
      "  0. 0.]\n",
      " [0. 0. 0. 0. 0. 0. 0. 0. 0. 0. 0. 0. 0. 0. 0. 0. 0. 0. 0. 0. 0. 0. 0. 0.\n",
      "  0. 0. 0. 0. 0. 0. 0. 0. 0. 0. 0. 0. 0. 0. 0. 0. 0. 0. 0. 0. 0. 0. 0. 0.\n",
      "  0. 0.]]\n"
     ]
    },
    {
     "ename": "IndexError",
     "evalue": "index 108 is out of bounds for axis 0 with size 5",
     "output_type": "error",
     "traceback": [
      "\u001b[1;31m---------------------------------------------------------------------------\u001b[0m",
      "\u001b[1;31mIndexError\u001b[0m                                Traceback (most recent call last)",
      "Input \u001b[1;32mIn [19]\u001b[0m, in \u001b[0;36m<cell line: 3>\u001b[1;34m()\u001b[0m\n\u001b[0;32m      1\u001b[0m clean\u001b[38;5;241m=\u001b[39mnp\u001b[38;5;241m.\u001b[39mzeros((\u001b[38;5;241m5\u001b[39m,\u001b[38;5;241m50\u001b[39m))\n\u001b[0;32m      2\u001b[0m \u001b[38;5;28mprint\u001b[39m(clean)\n\u001b[1;32m----> 3\u001b[0m clean[(x,y)]\u001b[38;5;241m+\u001b[39m\u001b[38;5;241m=\u001b[39m\u001b[38;5;241m5\u001b[39m\n\u001b[0;32m      4\u001b[0m \u001b[38;5;28mprint\u001b[39m(clean)\n",
      "\u001b[1;31mIndexError\u001b[0m: index 108 is out of bounds for axis 0 with size 5"
     ]
    }
   ],
   "source": [
    "clean=np.zeros((5,50))\n",
    "print(clean)\n",
    "clean[(x,y)]+=5\n",
    "print(clean)"
   ]
  },
  {
   "cell_type": "code",
   "execution_count": null,
   "id": "d998cf02",
   "metadata": {},
   "outputs": [],
   "source": []
  }
 ],
 "metadata": {
  "kernelspec": {
   "display_name": "Python 3 (ipykernel)",
   "language": "python",
   "name": "python3"
  },
  "language_info": {
   "codemirror_mode": {
    "name": "ipython",
    "version": 3
   },
   "file_extension": ".py",
   "mimetype": "text/x-python",
   "name": "python",
   "nbconvert_exporter": "python",
   "pygments_lexer": "ipython3",
   "version": "3.9.12"
  }
 },
 "nbformat": 4,
 "nbformat_minor": 5
}
